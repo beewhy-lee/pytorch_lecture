{
 "cells": [
  {
   "cell_type": "markdown",
   "metadata": {
    "id": "eH5uyoAkx9MZ"
   },
   "source": [
    "# Logistic regression"
   ]
  },
  {
   "cell_type": "code",
   "execution_count": null,
   "metadata": {
    "id": "AcyyrHyCx_A4"
   },
   "outputs": [],
   "source": [
    "from google.colab import drive\n",
    "drive.mount('/content/drive')\n",
    "\n",
    "basicpath = '/content/drive/MyDrive/samsung-machine-learning-lecture_colab/4일차/실습/'\n"
   ]
  },
  {
   "cell_type": "code",
   "execution_count": null,
   "metadata": {
    "id": "_cHdMs9Fx9Mk"
   },
   "outputs": [],
   "source": [
    "import torch\n",
    "import torch.nn as nn\n",
    "import torch.nn.functional as F\n",
    "import torch.optim as optim\n",
    "import matplotlib.pyplot as plt"
   ]
  },
  {
   "cell_type": "code",
   "execution_count": null,
   "metadata": {
    "id": "B3bA-i2Xx9Ml"
   },
   "outputs": [],
   "source": [
    "x_data = [[1, 2], [2, 3], [3, 1], [4, 3], [5, 3], [6, 2]]\n",
    "y_data = [[0], [0], [0], [1], [1], [1]]"
   ]
  },
  {
   "cell_type": "code",
   "execution_count": null,
   "metadata": {
    "id": "CXARTs37x9Ml"
   },
   "outputs": [],
   "source": [
    "x_train = torch.FloatTensor(x_data)\n",
    "y_train = torch.FloatTensor(y_data)"
   ]
  },
  {
   "cell_type": "markdown",
   "metadata": {
    "id": "culwKaYdx9Mm"
   },
   "source": [
    "## 과제 3-1. 아래 W와 b를 활용하여, logistic regression의 hypothesis를 구현하시오"
   ]
  },
  {
   "cell_type": "markdown",
   "metadata": {
    "id": "JjOkSCQjx9Mm"
   },
   "source": [
    "### Hypothesis"
   ]
  },
  {
   "cell_type": "code",
   "execution_count": null,
   "metadata": {
    "id": "wusUFFKjx9Mm"
   },
   "outputs": [],
   "source": [
    "from IPython.display import Image\n",
    "import os\n",
    "Image(os.path.join(basicpath, 'Image/Hypo.png'))"
   ]
  },
  {
   "cell_type": "markdown",
   "metadata": {
    "id": "aI-OWfCUx9Mn"
   },
   "source": [
    "torch.sigmod(torch.Tensor): torch.Tensor의 sigmod함수 적용 결과 반환"
   ]
  },
  {
   "cell_type": "code",
   "execution_count": null,
   "metadata": {
    "id": "3rnMcnP5x9Mn"
   },
   "outputs": [],
   "source": [
    "W = torch.zeros((2, 1), requires_grad=True)\n",
    "b = torch.zeros(1, requires_grad=True)"
   ]
  },
  {
   "cell_type": "code",
   "execution_count": null,
   "metadata": {
    "id": "qKIWRZXLx9Mo"
   },
   "outputs": [],
   "source": [
    "#답변 \n",
    "hypothesis = torch.sigmoid(x_train.matmul(W) + b)\n"
   ]
  },
  {
   "cell_type": "markdown",
   "metadata": {
    "id": "LDa4Xu0Cx9Mo"
   },
   "source": [
    "## 과제 3-2. 3-1에서 구한 hypothesis를 활용하여 logistic regression의 cost function을 구현하시오"
   ]
  },
  {
   "cell_type": "markdown",
   "metadata": {
    "id": "eeseBf8ix9Mo"
   },
   "source": [
    "### cost"
   ]
  },
  {
   "cell_type": "code",
   "execution_count": null,
   "metadata": {
    "id": "NIfVjw8kx9Mp"
   },
   "outputs": [],
   "source": [
    "from IPython.display import Image\n",
    "Image(basicpath + 'Image/cost.png')"
   ]
  },
  {
   "cell_type": "code",
   "execution_count": null,
   "metadata": {
    "id": "qfdvCBL9x9Mp"
   },
   "outputs": [],
   "source": [
    "# 답변\n",
    "loss = \n"
   ]
  },
  {
   "cell_type": "markdown",
   "metadata": {
    "id": "vzLyN57Ix9Mp"
   },
   "source": [
    "## logistic regression을 구현하시오.\n",
    "#### epochs = 1000, learning rate=1로 하시오."
   ]
  },
  {
   "cell_type": "code",
   "execution_count": null,
   "metadata": {
    "id": "xYNfY_KLx9Mq"
   },
   "outputs": [],
   "source": [
    "#답변\n",
    "#데이터\n",
    "\n",
    "\n",
    "\n",
    "\n",
    "\n",
    "\n",
    "\n",
    "\n",
    "\n",
    "\n",
    "\n",
    "\n",
    "  \n",
    "\n"
   ]
  },
  {
   "cell_type": "markdown",
   "metadata": {
    "id": "w0ZZM-vNx9Mq"
   },
   "source": [
    "### 결과 출력"
   ]
  },
  {
   "cell_type": "code",
   "execution_count": null,
   "metadata": {
    "id": "RalWZsHAx9Mr"
   },
   "outputs": [],
   "source": [
    "from sklearn.decomposition import PCA"
   ]
  },
  {
   "cell_type": "code",
   "execution_count": null,
   "metadata": {
    "id": "u_uGNLLrx9Ms"
   },
   "outputs": [],
   "source": [
    "x1 = torch.linspace(0, 10, 100).reshape(-1, 1)\n",
    "x2 = torch.linspace(0, 10, 100).reshape(-1, 1)"
   ]
  },
  {
   "cell_type": "code",
   "execution_count": null,
   "metadata": {
    "id": "16oFvy8lx9Ms"
   },
   "outputs": [],
   "source": [
    "pca = PCA(n_components=1)\n",
    "x_pca_100 = pca.fit_transform(torch.cat((x1, x2),axis=1))"
   ]
  },
  {
   "cell_type": "code",
   "execution_count": null,
   "metadata": {
    "id": "eWxjfCAax9Ms"
   },
   "outputs": [],
   "source": [
    "x_pca = pca.transform(x_train)"
   ]
  },
  {
   "cell_type": "code",
   "execution_count": null,
   "metadata": {
    "id": "8z0Q6sTwx9Mt"
   },
   "outputs": [],
   "source": [
    "hypothesis = torch.sigmoid(torch.cat((x1, x2),axis=1).matmul(W) + b)"
   ]
  },
  {
   "cell_type": "code",
   "execution_count": null,
   "metadata": {
    "id": "XRNas6nwx9Mt"
   },
   "outputs": [],
   "source": [
    "hx = hypothesis.detach().numpy()"
   ]
  },
  {
   "cell_type": "code",
   "execution_count": null,
   "metadata": {
    "id": "uNVnuZFOx9Mu"
   },
   "outputs": [],
   "source": [
    "plt.scatter(x_pca, y_train, s=50)\n",
    "plt.scatter(x_pca_100, hx, s=10)"
   ]
  },
  {
   "cell_type": "markdown",
   "metadata": {
    "id": "7VNsMHEHx9Mu"
   },
   "source": [
    "## High-level Implementation with nn.Module"
   ]
  },
  {
   "cell_type": "code",
   "execution_count": null,
   "metadata": {
    "id": "F27JmTK1x9Mu"
   },
   "outputs": [],
   "source": [
    "class my_logistic(nn.Module):\n",
    "    def __init__(self):\n",
    "        super().__init__()\n",
    "        self.linear = nn.Linear(2, 1)\n",
    "        self.sigmoid = nn.Sigmoid()\n",
    "\n",
    "    def forward(self, x):\n",
    "        return self.sigmoid(self.linear(x))"
   ]
  },
  {
   "cell_type": "code",
   "execution_count": null,
   "metadata": {
    "id": "xxSUdMQux9Mu"
   },
   "outputs": [],
   "source": [
    "model = my_logistic()"
   ]
  },
  {
   "cell_type": "code",
   "execution_count": null,
   "metadata": {
    "id": "xylyl9qfx9Mv"
   },
   "outputs": [],
   "source": [
    "# optimizer 설정\n",
    "optimizer = optim.SGD(model.parameters(), lr=1)\n",
    "\n",
    "nb_epochs = 100\n",
    "for epoch in range(nb_epochs + 1):\n",
    "\n",
    "    # H(x) 계산\n",
    "    hypothesis = model(x_train)\n",
    "\n",
    "    # cost 계산\n",
    "    cost = F.binary_cross_entropy(hypothesis, y_train)\n",
    "\n",
    "    # cost로 H(x) 개선\n",
    "    optimizer.zero_grad()\n",
    "    cost.backward()\n",
    "    optimizer.step()\n",
    "    \n",
    "    # 20번마다 로그 출력\n",
    "    if epoch % 10 == 0:\n",
    "        prediction = hypothesis >= torch.FloatTensor([0.5])\n",
    "        correct_prediction = prediction.float() == y_train\n",
    "        accuracy = correct_prediction.sum().item() / len(correct_prediction)\n",
    "        print('Epoch {:4d}/{} Cost: {:.6f} '.format(\n",
    "            epoch, nb_epochs, cost.item(), \n",
    "        ))"
   ]
  },
  {
   "cell_type": "markdown",
   "metadata": {
    "id": "jHwQeNn5x9Mw"
   },
   "source": [
    "### Accuracy"
   ]
  },
  {
   "cell_type": "code",
   "execution_count": null,
   "metadata": {
    "id": "h3Q1SMe6x9Mw"
   },
   "outputs": [],
   "source": [
    "hypothesis = model(x_train)\n",
    "\n",
    "prediction = hypothesis >= torch.FloatTensor([0.5])\n",
    "\n",
    "correct_prediction = prediction.float() == y_train\n",
    "\n",
    "accuracy = correct_prediction.sum().item() / correct_prediction.shape[0]\n",
    "\n",
    "accuracy * 100"
   ]
  },
  {
   "cell_type": "code",
   "execution_count": null,
   "metadata": {
    "id": "LZVt0mewT2mm"
   },
   "outputs": [],
   "source": [
    "hypothesis"
   ]
  },
  {
   "cell_type": "code",
   "execution_count": null,
   "metadata": {
    "id": "cN7Cpm7eT8X6"
   },
   "outputs": [],
   "source": []
  }
 ],
 "metadata": {
  "colab": {
   "collapsed_sections": [],
   "name": "423-Logistic regression (Quiz).ipynb",
   "provenance": []
  },
  "kernelspec": {
   "display_name": "Python 3",
   "language": "python",
   "name": "python3"
  },
  "language_info": {
   "codemirror_mode": {
    "name": "ipython",
    "version": 3
   },
   "file_extension": ".py",
   "mimetype": "text/x-python",
   "name": "python",
   "nbconvert_exporter": "python",
   "pygments_lexer": "ipython3",
   "version": "3.6.10"
  }
 },
 "nbformat": 4,
 "nbformat_minor": 1
}
