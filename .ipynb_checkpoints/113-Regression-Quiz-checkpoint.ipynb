{
 "cells": [
  {
   "cell_type": "markdown",
   "metadata": {
    "id": "TcUrP3Oox7En"
   },
   "source": [
    "# Regression"
   ]
  },
  {
   "cell_type": "markdown",
   "metadata": {
    "id": "OYNsDhHYx7Ex"
   },
   "source": [
    "## Data creation"
   ]
  },
  {
   "cell_type": "code",
   "execution_count": null,
   "metadata": {
    "id": "HYDTJJq4yGea"
   },
   "outputs": [],
   "source": [
    "from google.colab import drive\n",
    "drive.mount('/content/drive')\n",
    "\n",
    "basicpath = '/content/drive/MyDrive/samsung-machine-learning-lecture_colab/4일차/실습/'\n"
   ]
  },
  {
   "cell_type": "code",
   "execution_count": null,
   "metadata": {
    "id": "q1LLr9i3x7Ey"
   },
   "outputs": [],
   "source": [
    "import pandas as pd\n",
    "import os\n",
    "import numpy as np\n",
    "import matplotlib.pyplot as plt\n",
    "import torch\n",
    "import torch.optim as optim\n",
    "from torch import nn as nn\n",
    "from torch.nn import functional as F"
   ]
  },
  {
   "cell_type": "code",
   "execution_count": null,
   "metadata": {
    "id": "n2_j8-Wbx7Ez"
   },
   "outputs": [],
   "source": [
    "path = os.path.join(basicpath, 'Dataset/Classification')\n",
    "file = 'insurance.csv'\n",
    "data = pd.read_csv(os.path.join(path, file))"
   ]
  },
  {
   "cell_type": "code",
   "execution_count": null,
   "metadata": {
    "id": "mM0uOUsmx7E0"
   },
   "outputs": [],
   "source": [
    "data.head()"
   ]
  },
  {
   "cell_type": "markdown",
   "metadata": {
    "id": "nh9te_iMx7E2"
   },
   "source": [
    "## 데이터 label encoding"
   ]
  },
  {
   "cell_type": "code",
   "execution_count": null,
   "metadata": {
    "id": "jU60nJ2yx7E2"
   },
   "outputs": [],
   "source": [
    "from sklearn.preprocessing import LabelEncoder\n",
    "le = LabelEncoder()\n",
    "#sex\n",
    "le.fit(data['sex']) \n",
    "data['sex'] = le.transform(data['sex'])\n",
    "# smoker or not\n",
    "le.fit(data['smoker']) \n",
    "data['smoker'] = le.transform(data['smoker'])\n",
    "#region\n",
    "le.fit(data['region']) \n",
    "data['region'] = le.transform(data['region'])"
   ]
  },
  {
   "cell_type": "code",
   "execution_count": null,
   "metadata": {
    "id": "S5Wo72RNx7E3"
   },
   "outputs": [],
   "source": [
    "data.head(3)"
   ]
  },
  {
   "cell_type": "markdown",
   "metadata": {
    "id": "MvizB_Y-x7E3"
   },
   "source": [
    "## Data setup"
   ]
  },
  {
   "cell_type": "code",
   "execution_count": null,
   "metadata": {
    "id": "ioCooplAx7E4"
   },
   "outputs": [],
   "source": [
    "smoke_data = data[data['smoker'] == 1]"
   ]
  },
  {
   "cell_type": "code",
   "execution_count": null,
   "metadata": {
    "id": "bPui0qREx7E4"
   },
   "outputs": [],
   "source": [
    "X = torch.from_numpy(smoke_data['bmi'].values)\n",
    "y = torch.from_numpy(smoke_data['charges'].values)"
   ]
  },
  {
   "cell_type": "code",
   "execution_count": null,
   "metadata": {
    "id": "bdrE8B8ax7E5"
   },
   "outputs": [],
   "source": [
    "X = X.reshape(-1, 1).float()\n",
    "y = y.reshape(-1, 1).float()"
   ]
  },
  {
   "cell_type": "code",
   "execution_count": null,
   "metadata": {
    "id": "v_VMx3fnx7E5"
   },
   "outputs": [],
   "source": [
    "plt.scatter(X, y, s=10)"
   ]
  },
  {
   "cell_type": "code",
   "execution_count": null,
   "metadata": {
    "id": "9VYpZw8dx7E6"
   },
   "outputs": [],
   "source": [
    "from sklearn.model_selection import train_test_split\n",
    "X_train, X_test, y_train, y_test = train_test_split(X, y, test_size=0.2)"
   ]
  },
  {
   "cell_type": "markdown",
   "metadata": {
    "id": "mUifJhNzx7E6"
   },
   "source": [
    "## 과제2. 위 데이터를 nn.Module을 활용하여 linear regression하는 코드를 작성하시오\n",
    "#### 단, epoch=10000, learning rate=0.0001로 하시오"
   ]
  },
  {
   "cell_type": "code",
   "execution_count": null,
   "metadata": {
    "id": "K35WaZ-BQTsp"
   },
   "outputs": [],
   "source": [
    "# 모델\n",
    "\n",
    "\n",
    "\n",
    "\n",
    "\n",
    "\n",
    "\n",
    "\n",
    "\n",
    "\n",
    "\n",
    "\n",
    "\n"
   ]
  },
  {
   "cell_type": "code",
   "execution_count": null,
   "metadata": {
    "id": "7Gm2ALBNx7E7"
   },
   "outputs": [],
   "source": [
    "hx = (model(X_train)).detach().numpy()"
   ]
  },
  {
   "cell_type": "code",
   "execution_count": null,
   "metadata": {
    "id": "rcWdQXoBx7E8"
   },
   "outputs": [],
   "source": [
    "plt.figure(figsize=[6, 6])\n",
    "plt.scatter(X_train, y_train, s=10)\n",
    "plt.scatter(X_train, hx, s=20, c='r')"
   ]
  },
  {
   "cell_type": "code",
   "execution_count": null,
   "metadata": {
    "id": "g1iUUJJ-x7E9"
   },
   "outputs": [],
   "source": []
  }
 ],
 "metadata": {
  "colab": {
   "collapsed_sections": [],
   "name": "422-Regression-Quiz.ipynb",
   "provenance": []
  },
  "kernelspec": {
   "display_name": "Python 3",
   "language": "python",
   "name": "python3"
  },
  "language_info": {
   "codemirror_mode": {
    "name": "ipython",
    "version": 3
   },
   "file_extension": ".py",
   "mimetype": "text/x-python",
   "name": "python",
   "nbconvert_exporter": "python",
   "pygments_lexer": "ipython3",
   "version": "3.6.10"
  }
 },
 "nbformat": 4,
 "nbformat_minor": 1
}
