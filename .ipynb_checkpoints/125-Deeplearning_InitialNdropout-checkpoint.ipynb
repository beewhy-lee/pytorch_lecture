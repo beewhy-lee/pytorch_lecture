{
 "cells": [
  {
   "cell_type": "markdown",
   "metadata": {
    "id": "wNRDuH450GKX"
   },
   "source": [
    "# Deep Learning"
   ]
  },
  {
   "cell_type": "code",
   "execution_count": null,
   "metadata": {
    "colab": {
     "base_uri": "https://localhost:8080/"
    },
    "executionInfo": {
     "elapsed": 25517,
     "status": "ok",
     "timestamp": 1628833627199,
     "user": {
      "displayName": "서동혁",
      "photoUrl": "https://lh3.googleusercontent.com/a-/AOh14Gg71wtFCbtWxlC7qlDKDUXeUrBLgfU2JGLVV5w_=s64",
      "userId": "08630625503201634837"
     },
     "user_tz": -540
    },
    "id": "VfDCu-r60aek",
    "outputId": "31727414-7868-4d5c-aa73-ba50f2289413"
   },
   "outputs": [],
   "source": [
    "from google.colab import drive\n",
    "drive.mount('/content/drive')\n",
    "\n",
    "basicpath = '/content/drive/MyDrive/Practice-Day1-pytorch,regression,deeplearning/'\n"
   ]
  },
  {
   "cell_type": "code",
   "execution_count": null,
   "metadata": {
    "executionInfo": {
     "elapsed": 1972,
     "status": "ok",
     "timestamp": 1628833629166,
     "user": {
      "displayName": "서동혁",
      "photoUrl": "https://lh3.googleusercontent.com/a-/AOh14Gg71wtFCbtWxlC7qlDKDUXeUrBLgfU2JGLVV5w_=s64",
      "userId": "08630625503201634837"
     },
     "user_tz": -540
    },
    "id": "pdqkBspd0GKi"
   },
   "outputs": [],
   "source": [
    "import pandas as pd\n",
    "import os\n",
    "import numpy as np\n",
    "import matplotlib\n",
    "import matplotlib.pyplot as plt\n",
    "import torch\n",
    "import torch.nn as nn\n",
    "import torch.optim as optim"
   ]
  },
  {
   "cell_type": "code",
   "execution_count": null,
   "metadata": {
    "executionInfo": {
     "elapsed": 9,
     "status": "ok",
     "timestamp": 1628833629169,
     "user": {
      "displayName": "서동혁",
      "photoUrl": "https://lh3.googleusercontent.com/a-/AOh14Gg71wtFCbtWxlC7qlDKDUXeUrBLgfU2JGLVV5w_=s64",
      "userId": "08630625503201634837"
     },
     "user_tz": -540
    },
    "id": "ki4fS6JK0GKj"
   },
   "outputs": [],
   "source": [
    "device = 'cuda' if torch.cuda.is_available() else 'cpu'"
   ]
  },
  {
   "cell_type": "markdown",
   "metadata": {
    "id": "VHClPXy20GKj"
   },
   "source": [
    "## Data import"
   ]
  },
  {
   "cell_type": "code",
   "execution_count": null,
   "metadata": {
    "executionInfo": {
     "elapsed": 9228,
     "status": "ok",
     "timestamp": 1628833638388,
     "user": {
      "displayName": "서동혁",
      "photoUrl": "https://lh3.googleusercontent.com/a-/AOh14Gg71wtFCbtWxlC7qlDKDUXeUrBLgfU2JGLVV5w_=s64",
      "userId": "08630625503201634837"
     },
     "user_tz": -540
    },
    "id": "vcOcxa290GKj"
   },
   "outputs": [],
   "source": [
    "path = os.path.join(basicpath, 'Dataset/Classification')\n",
    "train_csv = 'mnist_train.csv'\n",
    "test_csv = 'mnist_test.csv'\n",
    "train_data = pd.read_csv(os.path.join(path, train_csv))\n",
    "test_data = pd.read_csv(os.path.join(path, test_csv))"
   ]
  },
  {
   "cell_type": "code",
   "execution_count": null,
   "metadata": {
    "executionInfo": {
     "elapsed": 713,
     "status": "ok",
     "timestamp": 1628833639096,
     "user": {
      "displayName": "서동혁",
      "photoUrl": "https://lh3.googleusercontent.com/a-/AOh14Gg71wtFCbtWxlC7qlDKDUXeUrBLgfU2JGLVV5w_=s64",
      "userId": "08630625503201634837"
     },
     "user_tz": -540
    },
    "id": "5EzLhrPc0GKk"
   },
   "outputs": [],
   "source": [
    "from sklearn.preprocessing import LabelEncoder\n",
    "\n",
    "le = LabelEncoder()\n",
    "\n",
    "le.fit(train_data.label == 5)\n",
    "\n",
    "train_data.label = le.transform(train_data.label == 5)\n",
    "test_data.label = le.transform(test_data.label == 5)"
   ]
  },
  {
   "cell_type": "markdown",
   "metadata": {
    "id": "0LfwXWDw0GKk"
   },
   "source": [
    "## Deep learning - classification 모델"
   ]
  },
  {
   "cell_type": "markdown",
   "metadata": {
    "id": "vspkPHc-0GKl"
   },
   "source": [
    "### Pytorch 모델에 입력하기 위한 데이터 변환"
   ]
  },
  {
   "cell_type": "code",
   "execution_count": null,
   "metadata": {
    "executionInfo": {
     "elapsed": 18,
     "status": "ok",
     "timestamp": 1628833639097,
     "user": {
      "displayName": "서동혁",
      "photoUrl": "https://lh3.googleusercontent.com/a-/AOh14Gg71wtFCbtWxlC7qlDKDUXeUrBLgfU2JGLVV5w_=s64",
      "userId": "08630625503201634837"
     },
     "user_tz": -540
    },
    "id": "uJ4iblzw0GKl"
   },
   "outputs": [],
   "source": [
    "train_data = torch.from_numpy(train_data.values).float()\n",
    "test_data = torch.from_numpy(test_data.values).float()"
   ]
  },
  {
   "cell_type": "code",
   "execution_count": null,
   "metadata": {
    "executionInfo": {
     "elapsed": 18,
     "status": "ok",
     "timestamp": 1628833639098,
     "user": {
      "displayName": "서동혁",
      "photoUrl": "https://lh3.googleusercontent.com/a-/AOh14Gg71wtFCbtWxlC7qlDKDUXeUrBLgfU2JGLVV5w_=s64",
      "userId": "08630625503201634837"
     },
     "user_tz": -540
    },
    "id": "SpknEo4Z0GKl"
   },
   "outputs": [],
   "source": [
    "BATCH_SIZE = 15\n",
    "epochs = 2\n",
    "learning_rate = 0.001\n",
    "drop_prob = 0.5"
   ]
  },
  {
   "cell_type": "code",
   "execution_count": null,
   "metadata": {
    "executionInfo": {
     "elapsed": 18,
     "status": "ok",
     "timestamp": 1628833639100,
     "user": {
      "displayName": "서동혁",
      "photoUrl": "https://lh3.googleusercontent.com/a-/AOh14Gg71wtFCbtWxlC7qlDKDUXeUrBLgfU2JGLVV5w_=s64",
      "userId": "08630625503201634837"
     },
     "user_tz": -540
    },
    "id": "ksM_Y-MR0GKm"
   },
   "outputs": [],
   "source": [
    "\n",
    "data_loader = torch.utils.data.DataLoader(train_data,\n",
    "                            batch_size=BATCH_SIZE, \n",
    "                            shuffle=True, \n",
    "                            num_workers=0)"
   ]
  },
  {
   "cell_type": "markdown",
   "metadata": {
    "id": "w3jA2Ri40GKm"
   },
   "source": [
    "### Deep learning 모델 정의 with Xavier initializer & dropout"
   ]
  },
  {
   "cell_type": "code",
   "execution_count": null,
   "metadata": {
    "colab": {
     "base_uri": "https://localhost:8080/"
    },
    "executionInfo": {
     "elapsed": 18,
     "status": "ok",
     "timestamp": 1628833639101,
     "user": {
      "displayName": "서동혁",
      "photoUrl": "https://lh3.googleusercontent.com/a-/AOh14Gg71wtFCbtWxlC7qlDKDUXeUrBLgfU2JGLVV5w_=s64",
      "userId": "08630625503201634837"
     },
     "user_tz": -540
    },
    "id": "M2bJq2kl0GKm",
    "outputId": "8e1cb419-684d-49c9-8a67-2fd340ca6aeb"
   },
   "outputs": [],
   "source": [
    "class DNNModel(nn.Module):\n",
    "    def __init__(self):\n",
    "        super(DNNModel, self).__init__()\n",
    "        self.layer1 = nn.Linear(28 *28, 300)\n",
    "        self.layer2 = nn.Linear(300, 300)\n",
    "        self.layer3 = nn.Linear(300, 2)\n",
    "        self.relu = nn.ReLU()\n",
    "        \n",
    "        self.dropout = nn.Dropout(p=drop_prob)\n",
    "        \n",
    "        nn.init.xavier_uniform_(self.layer1.weight)\n",
    "        nn.init.xavier_uniform_(self.layer2.weight)\n",
    "        nn.init.xavier_uniform_(self.layer3.weight)\n",
    "    \n",
    "        \n",
    "    def forward(self, x):\n",
    "        \n",
    "        layers = nn.Sequential(self.layer1, self.relu, self.dropout,\n",
    "                           self.layer2, self.relu, self.dropout,\n",
    "                           self.layer3).to(device)\n",
    "        out = layers(x)\n",
    "        return out\n",
    "    \n",
    "model = DNNModel()\n",
    "model"
   ]
  },
  {
   "cell_type": "markdown",
   "metadata": {
    "id": "cQYOew5Y0GKo"
   },
   "source": [
    "### 학습 시작"
   ]
  },
  {
   "cell_type": "code",
   "execution_count": null,
   "metadata": {
    "executionInfo": {
     "elapsed": 11,
     "status": "ok",
     "timestamp": 1628833639102,
     "user": {
      "displayName": "서동혁",
      "photoUrl": "https://lh3.googleusercontent.com/a-/AOh14Gg71wtFCbtWxlC7qlDKDUXeUrBLgfU2JGLVV5w_=s64",
      "userId": "08630625503201634837"
     },
     "user_tz": -540
    },
    "id": "eYsXFm380GKp"
   },
   "outputs": [],
   "source": [
    "criterion = nn.CrossEntropyLoss().to(device)\n",
    "optimizer = optim.Adam(model.parameters(), lr = learning_rate)"
   ]
  },
  {
   "cell_type": "code",
   "execution_count": null,
   "metadata": {
    "colab": {
     "base_uri": "https://localhost:8080/"
    },
    "executionInfo": {
     "elapsed": 22410,
     "status": "ok",
     "timestamp": 1628833661502,
     "user": {
      "displayName": "서동혁",
      "photoUrl": "https://lh3.googleusercontent.com/a-/AOh14Gg71wtFCbtWxlC7qlDKDUXeUrBLgfU2JGLVV5w_=s64",
      "userId": "08630625503201634837"
     },
     "user_tz": -540
    },
    "id": "Gj-tbge_0GKp",
    "outputId": "47697e2f-d5ba-4ec8-a08d-c841f2f70f4d"
   },
   "outputs": [],
   "source": [
    "for epoch in range(epochs):\n",
    "    running_cost = 0.0\n",
    "\n",
    "    for step, (batch_data) in enumerate(data_loader):\n",
    "        batch_x = batch_data[:, 1:].view(-1, 28*28).to(device)\n",
    "        batch_y = batch_data[:, 0].to(device).long()\n",
    "        \n",
    "        optimizer.zero_grad()\n",
    "        \n",
    "        outputs = model(batch_x)\n",
    "        cost = criterion(outputs, batch_y)\n",
    "\n",
    "        cost.backward()\n",
    "        optimizer.step()\n",
    "        \n",
    "        running_cost += cost.item()\n",
    "        if step % 200 == 199:\n",
    "            print('[%d, %5d] cost: %.3f' % (epoch + 1, step + 1, running_cost / 200))\n",
    "            running_cost = 0.0\n",
    "            "
   ]
  },
  {
   "cell_type": "markdown",
   "metadata": {
    "id": "AUHNrHGo0GKq"
   },
   "source": [
    "## 정확도 판단"
   ]
  },
  {
   "cell_type": "markdown",
   "metadata": {
    "id": "_oBZ_BWj0GKr"
   },
   "source": [
    "### Confusion matrix"
   ]
  },
  {
   "cell_type": "code",
   "execution_count": null,
   "metadata": {
    "executionInfo": {
     "elapsed": 15,
     "status": "ok",
     "timestamp": 1628833661504,
     "user": {
      "displayName": "서동혁",
      "photoUrl": "https://lh3.googleusercontent.com/a-/AOh14Gg71wtFCbtWxlC7qlDKDUXeUrBLgfU2JGLVV5w_=s64",
      "userId": "08630625503201634837"
     },
     "user_tz": -540
    },
    "id": "ZVqrOgIU0GKs"
   },
   "outputs": [],
   "source": [
    "from sklearn.metrics import confusion_matrix\n",
    "from sklearn.metrics import precision_score, recall_score"
   ]
  },
  {
   "cell_type": "code",
   "execution_count": null,
   "metadata": {
    "colab": {
     "base_uri": "https://localhost:8080/"
    },
    "executionInfo": {
     "elapsed": 15,
     "status": "ok",
     "timestamp": 1628833661505,
     "user": {
      "displayName": "서동혁",
      "photoUrl": "https://lh3.googleusercontent.com/a-/AOh14Gg71wtFCbtWxlC7qlDKDUXeUrBLgfU2JGLVV5w_=s64",
      "userId": "08630625503201634837"
     },
     "user_tz": -540
    },
    "id": "xVMYAJAg0GKs",
    "outputId": "52f2b4f2-dbcc-48f5-8c69-e282c7b7c81d"
   },
   "outputs": [],
   "source": [
    "with torch.no_grad():\n",
    "    X_test = test_data[:, 1:].view(-1, 28 * 28).float().to(device)\n",
    "    y_test = test_data[:, 0].float()\n",
    "    \n",
    "    prediction = model(X_test).cpu()\n",
    "    print(confusion_matrix(torch.argmax(prediction, 1), y_test))\n",
    "    print(\"==Precision==\")\n",
    "    print(precision_score(torch.argmax(prediction, 1), y_test, average=None))\n",
    "    print(precision_score(torch.argmax(prediction, 1), y_test, average='weighted'))\n",
    "    print(\"Recall\")\n",
    "    print(recall_score(torch.argmax(prediction, 1), y_test, average=None))\n",
    "    print(recall_score(torch.argmax(prediction, 1), y_test, average='weighted'))"
   ]
  }
 ],
 "metadata": {
  "accelerator": "GPU",
  "colab": {
   "collapsed_sections": [],
   "name": "521-Deeplearning_InitialNdropout.ipynb",
   "provenance": []
  },
  "kernelspec": {
   "display_name": "Python 3",
   "language": "python",
   "name": "python3"
  },
  "language_info": {
   "codemirror_mode": {
    "name": "ipython",
    "version": 3
   },
   "file_extension": ".py",
   "mimetype": "text/x-python",
   "name": "python",
   "nbconvert_exporter": "python",
   "pygments_lexer": "ipython3",
   "version": "3.6.10"
  }
 },
 "nbformat": 4,
 "nbformat_minor": 1
}
