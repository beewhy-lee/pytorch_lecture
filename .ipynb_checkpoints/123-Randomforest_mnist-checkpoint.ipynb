{
 "cells": [
  {
   "cell_type": "markdown",
   "metadata": {
    "id": "pB7YT7wK0CTL"
   },
   "source": [
    "# Classification"
   ]
  },
  {
   "cell_type": "markdown",
   "metadata": {
    "id": "E8pSBSEa0CTV"
   },
   "source": [
    "## Data import"
   ]
  },
  {
   "cell_type": "code",
   "execution_count": 1,
   "metadata": {
    "colab": {
     "base_uri": "https://localhost:8080/"
    },
    "executionInfo": {
     "elapsed": 26951,
     "status": "ok",
     "timestamp": 1628823351973,
     "user": {
      "displayName": "서동혁",
      "photoUrl": "https://lh3.googleusercontent.com/a-/AOh14Gg71wtFCbtWxlC7qlDKDUXeUrBLgfU2JGLVV5w_=s64",
      "userId": "08630625503201634837"
     },
     "user_tz": -540
    },
    "id": "zh_XJpAf0Yna",
    "outputId": "5620e1fe-a5f7-4131-f8c3-1f0908b4241e"
   },
   "outputs": [
    {
     "name": "stdout",
     "output_type": "stream",
     "text": [
      "Mounted at /content/drive\n"
     ]
    }
   ],
   "source": [
    "from google.colab import drive\n",
    "drive.mount('/content/drive')\n",
    "\n",
    "basicpath = '/content/drive/MyDrive/Practice-Day1-pytorch,regression,deeplearning/'\n"
   ]
  },
  {
   "cell_type": "code",
   "execution_count": 2,
   "metadata": {
    "executionInfo": {
     "elapsed": 2703,
     "status": "ok",
     "timestamp": 1628823354669,
     "user": {
      "displayName": "서동혁",
      "photoUrl": "https://lh3.googleusercontent.com/a-/AOh14Gg71wtFCbtWxlC7qlDKDUXeUrBLgfU2JGLVV5w_=s64",
      "userId": "08630625503201634837"
     },
     "user_tz": -540
    },
    "id": "OJw1T15L0CTW"
   },
   "outputs": [],
   "source": [
    "import pandas as pd\n",
    "import os\n",
    "import numpy as np"
   ]
  },
  {
   "cell_type": "code",
   "execution_count": 3,
   "metadata": {
    "executionInfo": {
     "elapsed": 12151,
     "status": "ok",
     "timestamp": 1628823366815,
     "user": {
      "displayName": "서동혁",
      "photoUrl": "https://lh3.googleusercontent.com/a-/AOh14Gg71wtFCbtWxlC7qlDKDUXeUrBLgfU2JGLVV5w_=s64",
      "userId": "08630625503201634837"
     },
     "user_tz": -540
    },
    "id": "MtqQRSTs0CTW"
   },
   "outputs": [],
   "source": [
    "path = os.path.join(basicpath, 'Dataset/Classification')\n",
    "train_csv = 'mnist_train.csv'\n",
    "test_csv = 'mnist_test.csv'\n",
    "train_data = pd.read_csv(os.path.join(path, train_csv))\n",
    "test_data = pd.read_csv(os.path.join(path, test_csv))"
   ]
  },
  {
   "cell_type": "code",
   "execution_count": 4,
   "metadata": {
    "executionInfo": {
     "elapsed": 35,
     "status": "ok",
     "timestamp": 1628823366819,
     "user": {
      "displayName": "서동혁",
      "photoUrl": "https://lh3.googleusercontent.com/a-/AOh14Gg71wtFCbtWxlC7qlDKDUXeUrBLgfU2JGLVV5w_=s64",
      "userId": "08630625503201634837"
     },
     "user_tz": -540
    },
    "id": "hkmUveaL0CTX"
   },
   "outputs": [],
   "source": [
    "X_train = train_data.values[:, 1:] \n",
    "y_train = train_data.values[:, 0]\n",
    "X_test = test_data.values[:, 1:]\n",
    "y_test = test_data.values[:, 0]"
   ]
  },
  {
   "cell_type": "code",
   "execution_count": 5,
   "metadata": {
    "executionInfo": {
     "elapsed": 36,
     "status": "ok",
     "timestamp": 1628823366823,
     "user": {
      "displayName": "서동혁",
      "photoUrl": "https://lh3.googleusercontent.com/a-/AOh14Gg71wtFCbtWxlC7qlDKDUXeUrBLgfU2JGLVV5w_=s64",
      "userId": "08630625503201634837"
     },
     "user_tz": -540
    },
    "id": "gucqBUc-0CTX"
   },
   "outputs": [],
   "source": [
    "X = np.r_[X_train, X_test]\n",
    "y = np.r_[y_train, y_test]"
   ]
  },
  {
   "cell_type": "markdown",
   "metadata": {
    "id": "GAhHc1I_0CTY"
   },
   "source": [
    "## Classification 모델"
   ]
  },
  {
   "cell_type": "markdown",
   "metadata": {
    "id": "Ek4XcYaK0CTY"
   },
   "source": [
    "### Data 처리\n",
    "#### Training / test 분할"
   ]
  },
  {
   "cell_type": "code",
   "execution_count": 6,
   "metadata": {
    "executionInfo": {
     "elapsed": 1269,
     "status": "ok",
     "timestamp": 1628823368057,
     "user": {
      "displayName": "서동혁",
      "photoUrl": "https://lh3.googleusercontent.com/a-/AOh14Gg71wtFCbtWxlC7qlDKDUXeUrBLgfU2JGLVV5w_=s64",
      "userId": "08630625503201634837"
     },
     "user_tz": -540
    },
    "id": "V1l9gk0d0CTY"
   },
   "outputs": [],
   "source": [
    "from sklearn.model_selection import train_test_split\n",
    "X_train, X_test, y_train, y_test = train_test_split(X, y)"
   ]
  },
  {
   "cell_type": "markdown",
   "metadata": {
    "id": "wHiTXEEL0CTZ"
   },
   "source": [
    "### Randomforest classification 모델 학습"
   ]
  },
  {
   "cell_type": "code",
   "execution_count": 7,
   "metadata": {
    "executionInfo": {
     "elapsed": 556,
     "status": "ok",
     "timestamp": 1628823368596,
     "user": {
      "displayName": "서동혁",
      "photoUrl": "https://lh3.googleusercontent.com/a-/AOh14Gg71wtFCbtWxlC7qlDKDUXeUrBLgfU2JGLVV5w_=s64",
      "userId": "08630625503201634837"
     },
     "user_tz": -540
    },
    "id": "L50N8qQs0CTZ"
   },
   "outputs": [],
   "source": [
    "from sklearn.ensemble import RandomForestClassifier"
   ]
  },
  {
   "cell_type": "code",
   "execution_count": 8,
   "metadata": {
    "colab": {
     "base_uri": "https://localhost:8080/"
    },
    "executionInfo": {
     "elapsed": 5158,
     "status": "ok",
     "timestamp": 1628823373746,
     "user": {
      "displayName": "서동혁",
      "photoUrl": "https://lh3.googleusercontent.com/a-/AOh14Gg71wtFCbtWxlC7qlDKDUXeUrBLgfU2JGLVV5w_=s64",
      "userId": "08630625503201634837"
     },
     "user_tz": -540
    },
    "id": "CmQsCJwT0CTZ",
    "outputId": "365dce6e-bc89-4c27-873c-848dc127d3ba"
   },
   "outputs": [
    {
     "data": {
      "text/plain": [
       "RandomForestClassifier(bootstrap=True, ccp_alpha=0.0, class_weight=None,\n",
       "                       criterion='gini', max_depth=None, max_features='auto',\n",
       "                       max_leaf_nodes=16, max_samples=None,\n",
       "                       min_impurity_decrease=0.0, min_impurity_split=None,\n",
       "                       min_samples_leaf=1, min_samples_split=2,\n",
       "                       min_weight_fraction_leaf=0.0, n_estimators=50, n_jobs=-1,\n",
       "                       oob_score=False, random_state=None, verbose=0,\n",
       "                       warm_start=False)"
      ]
     },
     "execution_count": 8,
     "metadata": {
      "tags": []
     },
     "output_type": "execute_result"
    }
   ],
   "source": [
    "model = RandomForestClassifier(n_estimators=50, max_leaf_nodes=16, n_jobs=-1) \n",
    "model.fit(X_train, y_train)"
   ]
  },
  {
   "cell_type": "markdown",
   "metadata": {
    "id": "qpli5RnY0CTa"
   },
   "source": [
    "## Model Test"
   ]
  },
  {
   "cell_type": "markdown",
   "metadata": {
    "id": "GMT9rdc70CTb"
   },
   "source": [
    "## 정확도 판단"
   ]
  },
  {
   "cell_type": "markdown",
   "metadata": {
    "id": "oDHyAKAN0CTb"
   },
   "source": [
    "### Confution matrix"
   ]
  },
  {
   "cell_type": "code",
   "execution_count": 9,
   "metadata": {
    "executionInfo": {
     "elapsed": 12,
     "status": "ok",
     "timestamp": 1628823373748,
     "user": {
      "displayName": "서동혁",
      "photoUrl": "https://lh3.googleusercontent.com/a-/AOh14Gg71wtFCbtWxlC7qlDKDUXeUrBLgfU2JGLVV5w_=s64",
      "userId": "08630625503201634837"
     },
     "user_tz": -540
    },
    "id": "Q_zKUppS0CTb"
   },
   "outputs": [],
   "source": [
    "from sklearn.metrics import confusion_matrix"
   ]
  },
  {
   "cell_type": "code",
   "execution_count": 10,
   "metadata": {
    "executionInfo": {
     "elapsed": 770,
     "status": "ok",
     "timestamp": 1628823374508,
     "user": {
      "displayName": "서동혁",
      "photoUrl": "https://lh3.googleusercontent.com/a-/AOh14Gg71wtFCbtWxlC7qlDKDUXeUrBLgfU2JGLVV5w_=s64",
      "userId": "08630625503201634837"
     },
     "user_tz": -540
    },
    "id": "7NNhU2bz0CTc"
   },
   "outputs": [],
   "source": [
    "predict = model.predict(X_test)"
   ]
  },
  {
   "cell_type": "code",
   "execution_count": 11,
   "metadata": {
    "colab": {
     "base_uri": "https://localhost:8080/"
    },
    "executionInfo": {
     "elapsed": 64,
     "status": "ok",
     "timestamp": 1628823374512,
     "user": {
      "displayName": "서동혁",
      "photoUrl": "https://lh3.googleusercontent.com/a-/AOh14Gg71wtFCbtWxlC7qlDKDUXeUrBLgfU2JGLVV5w_=s64",
      "userId": "08630625503201634837"
     },
     "user_tz": -540
    },
    "id": "y-zWTYuz0CTc",
    "outputId": "c46903ea-aa81-43ef-e46f-bf5eb8115ba6"
   },
   "outputs": [
    {
     "data": {
      "text/plain": [
       "array([[1679,    1,    3,    7,    1,    2,   14,    4,   32,    0],\n",
       "       [   1, 1991,    7,    6,    0,    2,    2,    6,    4,    2],\n",
       "       [  47,   84, 1364,   37,   20,    2,   49,   45,   38,    8],\n",
       "       [  27,   50,   43, 1489,    9,   16,    8,   38,   30,   41],\n",
       "       [  13,   14,   23,    5, 1386,    1,   57,   25,   28,  187],\n",
       "       [  92,   97,   11,  449,   41,  647,   48,   35,   81,  119],\n",
       "       [  52,   30,   49,   13,   41,   13, 1464,    6,   25,    0],\n",
       "       [  10,   60,   40,    8,   26,    0,    1, 1612,   25,   61],\n",
       "       [  17,  121,   26,  115,   25,    7,   17,    5, 1255,   76],\n",
       "       [  15,   22,   26,   26,   76,    3,   17,  132,   29, 1386]])"
      ]
     },
     "execution_count": 11,
     "metadata": {
      "tags": []
     },
     "output_type": "execute_result"
    }
   ],
   "source": [
    "matrix = confusion_matrix(y_test, predict)\n",
    "matrix"
   ]
  },
  {
   "cell_type": "markdown",
   "metadata": {
    "id": "H3rWW9dT0CTd"
   },
   "source": [
    "### Precision, recall"
   ]
  },
  {
   "cell_type": "code",
   "execution_count": 12,
   "metadata": {
    "executionInfo": {
     "elapsed": 66,
     "status": "ok",
     "timestamp": 1628823374520,
     "user": {
      "displayName": "서동혁",
      "photoUrl": "https://lh3.googleusercontent.com/a-/AOh14Gg71wtFCbtWxlC7qlDKDUXeUrBLgfU2JGLVV5w_=s64",
      "userId": "08630625503201634837"
     },
     "user_tz": -540
    },
    "id": "61oKCJLW0CTe"
   },
   "outputs": [],
   "source": [
    "from sklearn.metrics import precision_score, recall_score"
   ]
  },
  {
   "cell_type": "code",
   "execution_count": 13,
   "metadata": {
    "colab": {
     "base_uri": "https://localhost:8080/"
    },
    "executionInfo": {
     "elapsed": 67,
     "status": "ok",
     "timestamp": 1628823374523,
     "user": {
      "displayName": "서동혁",
      "photoUrl": "https://lh3.googleusercontent.com/a-/AOh14Gg71wtFCbtWxlC7qlDKDUXeUrBLgfU2JGLVV5w_=s64",
      "userId": "08630625503201634837"
     },
     "user_tz": -540
    },
    "id": "EutUnYmL0CTe",
    "outputId": "6aada7a7-91fd-4488-de47-f2638c09ce9e"
   },
   "outputs": [
    {
     "name": "stdout",
     "output_type": "stream",
     "text": [
      "[0.85970302 0.80607287 0.85678392 0.69095128 0.85292308 0.93362193\n",
      " 0.87298748 0.84486373 0.81124758 0.73723404]\n",
      "average:  0.8255052021489935\n"
     ]
    }
   ],
   "source": [
    "print(precision_score(y_test, predict, average=None))\n",
    "print('average: ', precision_score(y_test, predict, average='weighted'))"
   ]
  },
  {
   "cell_type": "code",
   "execution_count": 14,
   "metadata": {
    "colab": {
     "base_uri": "https://localhost:8080/"
    },
    "executionInfo": {
     "elapsed": 55,
     "status": "ok",
     "timestamp": 1628823374525,
     "user": {
      "displayName": "서동혁",
      "photoUrl": "https://lh3.googleusercontent.com/a-/AOh14Gg71wtFCbtWxlC7qlDKDUXeUrBLgfU2JGLVV5w_=s64",
      "userId": "08630625503201634837"
     },
     "user_tz": -540
    },
    "id": "zlUB4icp0CTf",
    "outputId": "a517f738-172a-4896-9077-602a6508ffb8"
   },
   "outputs": [
    {
     "name": "stdout",
     "output_type": "stream",
     "text": [
      "[0.9632817  0.98515586 0.80519481 0.85037122 0.79700978 0.39938272\n",
      " 0.86473715 0.87466088 0.75420673 0.80023095]\n",
      "average:  0.8156\n"
     ]
    }
   ],
   "source": [
    "print(recall_score(y_test, predict, average=None))\n",
    "print('average: ', recall_score(y_test, predict, average='weighted'))"
   ]
  }
 ],
 "metadata": {
  "colab": {
   "collapsed_sections": [],
   "name": "513-Randomforest_mnist.ipynb",
   "provenance": []
  },
  "kernelspec": {
   "display_name": "Python 3",
   "language": "python",
   "name": "python3"
  },
  "language_info": {
   "codemirror_mode": {
    "name": "ipython",
    "version": 3
   },
   "file_extension": ".py",
   "mimetype": "text/x-python",
   "name": "python",
   "nbconvert_exporter": "python",
   "pygments_lexer": "ipython3",
   "version": "3.6.10"
  }
 },
 "nbformat": 4,
 "nbformat_minor": 1
}
