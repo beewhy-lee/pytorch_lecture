{
 "cells": [
  {
   "cell_type": "markdown",
   "metadata": {
    "id": "eQ2NfOwp0AfI"
   },
   "source": [
    "# Classification"
   ]
  },
  {
   "cell_type": "markdown",
   "metadata": {
    "id": "F8UUrTx50AfL"
   },
   "source": [
    "## Data import"
   ]
  },
  {
   "cell_type": "code",
   "execution_count": 1,
   "metadata": {
    "colab": {
     "base_uri": "https://localhost:8080/"
    },
    "executionInfo": {
     "elapsed": 33428,
     "status": "ok",
     "timestamp": 1628823108088,
     "user": {
      "displayName": "서동혁",
      "photoUrl": "https://lh3.googleusercontent.com/a-/AOh14Gg71wtFCbtWxlC7qlDKDUXeUrBLgfU2JGLVV5w_=s64",
      "userId": "08630625503201634837"
     },
     "user_tz": -540
    },
    "id": "XtQ5kwee0XMt",
    "outputId": "cd97c3df-ad1f-4dea-9939-9547485b7c2d"
   },
   "outputs": [
    {
     "name": "stdout",
     "output_type": "stream",
     "text": [
      "Mounted at /content/drive\n"
     ]
    }
   ],
   "source": [
    "from google.colab import drive\n",
    "drive.mount('/content/drive')\n",
    "\n",
    "basicpath = '/content/drive/MyDrive/Practice-Day1-pytorch,regression,deeplearning/'"
   ]
  },
  {
   "cell_type": "code",
   "execution_count": 2,
   "metadata": {
    "executionInfo": {
     "elapsed": 586,
     "status": "ok",
     "timestamp": 1628823108661,
     "user": {
      "displayName": "서동혁",
      "photoUrl": "https://lh3.googleusercontent.com/a-/AOh14Gg71wtFCbtWxlC7qlDKDUXeUrBLgfU2JGLVV5w_=s64",
      "userId": "08630625503201634837"
     },
     "user_tz": -540
    },
    "id": "SudWuCc00AfM"
   },
   "outputs": [],
   "source": [
    "import pandas as pd\n",
    "import os\n",
    "import numpy as np"
   ]
  },
  {
   "cell_type": "code",
   "execution_count": 3,
   "metadata": {
    "executionInfo": {
     "elapsed": 7941,
     "status": "ok",
     "timestamp": 1628823116597,
     "user": {
      "displayName": "서동혁",
      "photoUrl": "https://lh3.googleusercontent.com/a-/AOh14Gg71wtFCbtWxlC7qlDKDUXeUrBLgfU2JGLVV5w_=s64",
      "userId": "08630625503201634837"
     },
     "user_tz": -540
    },
    "id": "MwZLGrXT0AfM"
   },
   "outputs": [],
   "source": [
    "path = os.path.join(basicpath, 'Dataset/Classification')\n",
    "train_csv = 'mnist_train.csv'\n",
    "test_csv = 'mnist_test.csv'\n",
    "train_data = pd.read_csv(os.path.join(path, train_csv))\n",
    "test_data = pd.read_csv(os.path.join(path, test_csv))"
   ]
  },
  {
   "cell_type": "code",
   "execution_count": 4,
   "metadata": {
    "executionInfo": {
     "elapsed": 604,
     "status": "ok",
     "timestamp": 1628823117198,
     "user": {
      "displayName": "서동혁",
      "photoUrl": "https://lh3.googleusercontent.com/a-/AOh14Gg71wtFCbtWxlC7qlDKDUXeUrBLgfU2JGLVV5w_=s64",
      "userId": "08630625503201634837"
     },
     "user_tz": -540
    },
    "id": "bpV6BfaT0AfN"
   },
   "outputs": [],
   "source": [
    "from sklearn.preprocessing import LabelEncoder\n",
    "\n",
    "le = LabelEncoder()\n",
    "\n",
    "le.fit(train_data.label == 5)\n",
    "\n",
    "train_data.label = le.transform(train_data.label == 5)\n",
    "test_data.label = le.transform(test_data.label == 5)"
   ]
  },
  {
   "cell_type": "code",
   "execution_count": 5,
   "metadata": {
    "executionInfo": {
     "elapsed": 11,
     "status": "ok",
     "timestamp": 1628823117200,
     "user": {
      "displayName": "서동혁",
      "photoUrl": "https://lh3.googleusercontent.com/a-/AOh14Gg71wtFCbtWxlC7qlDKDUXeUrBLgfU2JGLVV5w_=s64",
      "userId": "08630625503201634837"
     },
     "user_tz": -540
    },
    "id": "DVk-OtGJ0AfN"
   },
   "outputs": [],
   "source": [
    "X_train = train_data.values[:, 1:] \n",
    "y_train = train_data.values[:, 0]\n",
    "X_test = test_data.values[:, 1:]\n",
    "y_test = test_data.values[:, 0]"
   ]
  },
  {
   "cell_type": "code",
   "execution_count": 6,
   "metadata": {
    "executionInfo": {
     "elapsed": 402,
     "status": "ok",
     "timestamp": 1628823117592,
     "user": {
      "displayName": "서동혁",
      "photoUrl": "https://lh3.googleusercontent.com/a-/AOh14Gg71wtFCbtWxlC7qlDKDUXeUrBLgfU2JGLVV5w_=s64",
      "userId": "08630625503201634837"
     },
     "user_tz": -540
    },
    "id": "2EHQDzuE0AfO"
   },
   "outputs": [],
   "source": [
    "X = np.r_[X_train, X_test]\n",
    "y = np.r_[y_train, y_test]"
   ]
  },
  {
   "cell_type": "markdown",
   "metadata": {
    "id": "cB0KBYf70AfO"
   },
   "source": [
    "## Classification 모델"
   ]
  },
  {
   "cell_type": "markdown",
   "metadata": {
    "id": "Ix8P4MPI0AfP"
   },
   "source": [
    "### Data 처리\n",
    "#### Training / test 분할"
   ]
  },
  {
   "cell_type": "code",
   "execution_count": 7,
   "metadata": {
    "executionInfo": {
     "elapsed": 866,
     "status": "ok",
     "timestamp": 1628823118451,
     "user": {
      "displayName": "서동혁",
      "photoUrl": "https://lh3.googleusercontent.com/a-/AOh14Gg71wtFCbtWxlC7qlDKDUXeUrBLgfU2JGLVV5w_=s64",
      "userId": "08630625503201634837"
     },
     "user_tz": -540
    },
    "id": "q375FVWO0AfP"
   },
   "outputs": [],
   "source": [
    "from sklearn.model_selection import train_test_split\n",
    "X_train, X_test, y_train, y_test = train_test_split(X, y)"
   ]
  },
  {
   "cell_type": "markdown",
   "metadata": {
    "id": "tSRl-U0K0AfP"
   },
   "source": [
    "### Randomforest classification 모델 학습"
   ]
  },
  {
   "cell_type": "code",
   "execution_count": 8,
   "metadata": {
    "executionInfo": {
     "elapsed": 39,
     "status": "ok",
     "timestamp": 1628823118455,
     "user": {
      "displayName": "서동혁",
      "photoUrl": "https://lh3.googleusercontent.com/a-/AOh14Gg71wtFCbtWxlC7qlDKDUXeUrBLgfU2JGLVV5w_=s64",
      "userId": "08630625503201634837"
     },
     "user_tz": -540
    },
    "id": "HqCV4qhD0AfQ"
   },
   "outputs": [],
   "source": [
    "from sklearn.ensemble import RandomForestClassifier"
   ]
  },
  {
   "cell_type": "code",
   "execution_count": 9,
   "metadata": {
    "colab": {
     "base_uri": "https://localhost:8080/"
    },
    "executionInfo": {
     "elapsed": 5137,
     "status": "ok",
     "timestamp": 1628823123568,
     "user": {
      "displayName": "서동혁",
      "photoUrl": "https://lh3.googleusercontent.com/a-/AOh14Gg71wtFCbtWxlC7qlDKDUXeUrBLgfU2JGLVV5w_=s64",
      "userId": "08630625503201634837"
     },
     "user_tz": -540
    },
    "id": "a_eDUPbi0AfQ",
    "outputId": "02b9c686-76e2-4914-e577-19baf4c244fc"
   },
   "outputs": [
    {
     "data": {
      "text/plain": [
       "RandomForestClassifier(bootstrap=True, ccp_alpha=0.0, class_weight=None,\n",
       "                       criterion='gini', max_depth=None, max_features='auto',\n",
       "                       max_leaf_nodes=16, max_samples=None,\n",
       "                       min_impurity_decrease=0.0, min_impurity_split=None,\n",
       "                       min_samples_leaf=1, min_samples_split=2,\n",
       "                       min_weight_fraction_leaf=0.0, n_estimators=50, n_jobs=-1,\n",
       "                       oob_score=False, random_state=None, verbose=0,\n",
       "                       warm_start=False)"
      ]
     },
     "execution_count": 9,
     "metadata": {
      "tags": []
     },
     "output_type": "execute_result"
    }
   ],
   "source": [
    "model = RandomForestClassifier(n_estimators=50, max_leaf_nodes=16, n_jobs=-1) \n",
    "model.fit(X_train, y_train)"
   ]
  },
  {
   "cell_type": "markdown",
   "metadata": {
    "id": "Xt2nL7hP0AfR"
   },
   "source": [
    "## Model Test"
   ]
  },
  {
   "cell_type": "markdown",
   "metadata": {
    "id": "3tT6t9mD0AfR"
   },
   "source": [
    "## 정확도 판단"
   ]
  },
  {
   "cell_type": "markdown",
   "metadata": {
    "id": "6NpuPqzV0AfS"
   },
   "source": [
    "### Confution matrix"
   ]
  },
  {
   "cell_type": "code",
   "execution_count": 10,
   "metadata": {
    "executionInfo": {
     "elapsed": 15,
     "status": "ok",
     "timestamp": 1628823123569,
     "user": {
      "displayName": "서동혁",
      "photoUrl": "https://lh3.googleusercontent.com/a-/AOh14Gg71wtFCbtWxlC7qlDKDUXeUrBLgfU2JGLVV5w_=s64",
      "userId": "08630625503201634837"
     },
     "user_tz": -540
    },
    "id": "X5-oYaOb0AfS"
   },
   "outputs": [],
   "source": [
    "from sklearn.metrics import confusion_matrix"
   ]
  },
  {
   "cell_type": "code",
   "execution_count": 11,
   "metadata": {
    "executionInfo": {
     "elapsed": 14,
     "status": "ok",
     "timestamp": 1628823123570,
     "user": {
      "displayName": "서동혁",
      "photoUrl": "https://lh3.googleusercontent.com/a-/AOh14Gg71wtFCbtWxlC7qlDKDUXeUrBLgfU2JGLVV5w_=s64",
      "userId": "08630625503201634837"
     },
     "user_tz": -540
    },
    "id": "7_LBCmF30AfT"
   },
   "outputs": [],
   "source": [
    "predict = model.predict(X_test)"
   ]
  },
  {
   "cell_type": "code",
   "execution_count": 12,
   "metadata": {
    "colab": {
     "base_uri": "https://localhost:8080/"
    },
    "executionInfo": {
     "elapsed": 16,
     "status": "ok",
     "timestamp": 1628823123573,
     "user": {
      "displayName": "서동혁",
      "photoUrl": "https://lh3.googleusercontent.com/a-/AOh14Gg71wtFCbtWxlC7qlDKDUXeUrBLgfU2JGLVV5w_=s64",
      "userId": "08630625503201634837"
     },
     "user_tz": -540
    },
    "id": "_POB3XfT0AfT",
    "outputId": "a24a6d7a-c945-4550-a0f3-9bf6007e7547"
   },
   "outputs": [
    {
     "data": {
      "text/plain": [
       "array([[15898,    10],\n",
       "       [  891,   701]])"
      ]
     },
     "execution_count": 12,
     "metadata": {
      "tags": []
     },
     "output_type": "execute_result"
    }
   ],
   "source": [
    "matrix = confusion_matrix(y_test, predict)\n",
    "matrix"
   ]
  },
  {
   "cell_type": "markdown",
   "metadata": {
    "id": "osGsSfFC0AfU"
   },
   "source": [
    "### Precision, recall"
   ]
  },
  {
   "cell_type": "code",
   "execution_count": 13,
   "metadata": {
    "executionInfo": {
     "elapsed": 13,
     "status": "ok",
     "timestamp": 1628823123575,
     "user": {
      "displayName": "서동혁",
      "photoUrl": "https://lh3.googleusercontent.com/a-/AOh14Gg71wtFCbtWxlC7qlDKDUXeUrBLgfU2JGLVV5w_=s64",
      "userId": "08630625503201634837"
     },
     "user_tz": -540
    },
    "id": "3QMQh5YM0AfV"
   },
   "outputs": [],
   "source": [
    "from sklearn.metrics import precision_score, recall_score"
   ]
  },
  {
   "cell_type": "code",
   "execution_count": 14,
   "metadata": {
    "colab": {
     "base_uri": "https://localhost:8080/"
    },
    "executionInfo": {
     "elapsed": 554,
     "status": "ok",
     "timestamp": 1628823124116,
     "user": {
      "displayName": "서동혁",
      "photoUrl": "https://lh3.googleusercontent.com/a-/AOh14Gg71wtFCbtWxlC7qlDKDUXeUrBLgfU2JGLVV5w_=s64",
      "userId": "08630625503201634837"
     },
     "user_tz": -540
    },
    "id": "icnRdKas0AfV",
    "outputId": "792b56e7-f274-4f73-f20a-1a669d4ed6d3"
   },
   "outputs": [
    {
     "name": "stdout",
     "output_type": "stream",
     "text": [
      "[0.94692954 0.9859353 ]\n",
      "average:  0.9504779473791963\n"
     ]
    }
   ],
   "source": [
    "print(precision_score(y_test, predict, average=None))\n",
    "print('average: ', precision_score(y_test, predict, average='weighted'))"
   ]
  },
  {
   "cell_type": "code",
   "execution_count": 15,
   "metadata": {
    "colab": {
     "base_uri": "https://localhost:8080/"
    },
    "executionInfo": {
     "elapsed": 10,
     "status": "ok",
     "timestamp": 1628823124117,
     "user": {
      "displayName": "서동혁",
      "photoUrl": "https://lh3.googleusercontent.com/a-/AOh14Gg71wtFCbtWxlC7qlDKDUXeUrBLgfU2JGLVV5w_=s64",
      "userId": "08630625503201634837"
     },
     "user_tz": -540
    },
    "id": "aHmuLxxc0AfW",
    "outputId": "6f668208-4716-4059-cbd3-42ab7cfac6e9"
   },
   "outputs": [
    {
     "name": "stdout",
     "output_type": "stream",
     "text": [
      "[0.99937139 0.44032663]\n",
      "average:  0.7198490093161306\n"
     ]
    }
   ],
   "source": [
    "print(recall_score(y_test, predict, average=None))\n",
    "print('average: ', recall_score(y_test, predict, average='macro'))"
   ]
  },
  {
   "cell_type": "code",
   "execution_count": 15,
   "metadata": {
    "executionInfo": {
     "elapsed": 7,
     "status": "ok",
     "timestamp": 1628823124118,
     "user": {
      "displayName": "서동혁",
      "photoUrl": "https://lh3.googleusercontent.com/a-/AOh14Gg71wtFCbtWxlC7qlDKDUXeUrBLgfU2JGLVV5w_=s64",
      "userId": "08630625503201634837"
     },
     "user_tz": -540
    },
    "id": "WJPbCsRw0AfX"
   },
   "outputs": [],
   "source": []
  }
 ],
 "metadata": {
  "colab": {
   "collapsed_sections": [],
   "name": "512-Randomforest_mnist05.ipynb",
   "provenance": []
  },
  "kernelspec": {
   "display_name": "Python 3",
   "language": "python",
   "name": "python3"
  },
  "language_info": {
   "codemirror_mode": {
    "name": "ipython",
    "version": 3
   },
   "file_extension": ".py",
   "mimetype": "text/x-python",
   "name": "python",
   "nbconvert_exporter": "python",
   "pygments_lexer": "ipython3",
   "version": "3.6.10"
  }
 },
 "nbformat": 4,
 "nbformat_minor": 1
}
