{
 "cells": [
  {
   "cell_type": "markdown",
   "metadata": {
    "id": "5GHSzLkG0EXO"
   },
   "source": [
    "# Deep Learning"
   ]
  },
  {
   "cell_type": "code",
   "execution_count": null,
   "metadata": {
    "colab": {
     "base_uri": "https://localhost:8080/"
    },
    "executionInfo": {
     "elapsed": 27104,
     "status": "ok",
     "timestamp": 1628837502550,
     "user": {
      "displayName": "서동혁",
      "photoUrl": "https://lh3.googleusercontent.com/a-/AOh14Gg71wtFCbtWxlC7qlDKDUXeUrBLgfU2JGLVV5w_=s64",
      "userId": "08630625503201634837"
     },
     "user_tz": -540
    },
    "id": "diSgPChn0ZiD",
    "outputId": "967b8647-354f-4f99-a2aa-396df854f07f"
   },
   "outputs": [],
   "source": [
    "from google.colab import drive\n",
    "drive.mount('/content/drive')\n",
    "\n",
    "basicpath = '/content/drive/MyDrive/Practice-Day1-pytorch,regression,deeplearning/'\n"
   ]
  },
  {
   "cell_type": "code",
   "execution_count": null,
   "metadata": {
    "executionInfo": {
     "elapsed": 2112,
     "status": "ok",
     "timestamp": 1628837504644,
     "user": {
      "displayName": "서동혁",
      "photoUrl": "https://lh3.googleusercontent.com/a-/AOh14Gg71wtFCbtWxlC7qlDKDUXeUrBLgfU2JGLVV5w_=s64",
      "userId": "08630625503201634837"
     },
     "user_tz": -540
    },
    "id": "7cCTNMkI0EXZ"
   },
   "outputs": [],
   "source": [
    "import pandas as pd\n",
    "import os\n",
    "import numpy as np\n",
    "import matplotlib\n",
    "import matplotlib.pyplot as plt\n",
    "import torch\n",
    "import torch.nn as nn\n",
    "import torch.optim as optim"
   ]
  },
  {
   "cell_type": "code",
   "execution_count": null,
   "metadata": {
    "executionInfo": {
     "elapsed": 18,
     "status": "ok",
     "timestamp": 1628837504646,
     "user": {
      "displayName": "서동혁",
      "photoUrl": "https://lh3.googleusercontent.com/a-/AOh14Gg71wtFCbtWxlC7qlDKDUXeUrBLgfU2JGLVV5w_=s64",
      "userId": "08630625503201634837"
     },
     "user_tz": -540
    },
    "id": "gFL5dNnQ0EXa"
   },
   "outputs": [],
   "source": [
    "device = torch.device(\"cuda:0\" if torch.cuda.is_available() else \"cpu\")"
   ]
  },
  {
   "cell_type": "markdown",
   "metadata": {
    "id": "UFCPbsGI0EXa"
   },
   "source": [
    "## Data import"
   ]
  },
  {
   "cell_type": "code",
   "execution_count": null,
   "metadata": {
    "executionInfo": {
     "elapsed": 7708,
     "status": "ok",
     "timestamp": 1628837513189,
     "user": {
      "displayName": "서동혁",
      "photoUrl": "https://lh3.googleusercontent.com/a-/AOh14Gg71wtFCbtWxlC7qlDKDUXeUrBLgfU2JGLVV5w_=s64",
      "userId": "08630625503201634837"
     },
     "user_tz": -540
    },
    "id": "ytnpAOFf0EXa"
   },
   "outputs": [],
   "source": [
    "path = os.path.join(basicpath, 'Dataset/Classification')\n",
    "train_csv = 'mnist_train.csv'\n",
    "test_csv = 'mnist_test.csv'\n",
    "train_data = pd.read_csv(os.path.join(path, train_csv))\n",
    "test_data = pd.read_csv(os.path.join(path, test_csv))"
   ]
  },
  {
   "cell_type": "markdown",
   "metadata": {
    "id": "QMvL7tbO0EXb"
   },
   "source": [
    "## 데이터 확인"
   ]
  },
  {
   "cell_type": "code",
   "execution_count": null,
   "metadata": {
    "executionInfo": {
     "elapsed": 89,
     "status": "ok",
     "timestamp": 1628837513227,
     "user": {
      "displayName": "서동혁",
      "photoUrl": "https://lh3.googleusercontent.com/a-/AOh14Gg71wtFCbtWxlC7qlDKDUXeUrBLgfU2JGLVV5w_=s64",
      "userId": "08630625503201634837"
     },
     "user_tz": -540
    },
    "id": "whldAgaa0EXb"
   },
   "outputs": [],
   "source": [
    "def plot_digit(data):\n",
    "    image = data.reshape(28, 28) # 1d vector를 28*28 형태로 변경\n",
    "    plt.imshow(image, cmap = matplotlib.cm.binary, \n",
    "               interpolation=\"nearest\")\n",
    "    plt.axis(\"off\")"
   ]
  },
  {
   "cell_type": "code",
   "execution_count": null,
   "metadata": {
    "colab": {
     "base_uri": "https://localhost:8080/",
     "height": 439
    },
    "executionInfo": {
     "elapsed": 119,
     "status": "ok",
     "timestamp": 1628837513261,
     "user": {
      "displayName": "서동혁",
      "photoUrl": "https://lh3.googleusercontent.com/a-/AOh14Gg71wtFCbtWxlC7qlDKDUXeUrBLgfU2JGLVV5w_=s64",
      "userId": "08630625503201634837"
     },
     "user_tz": -540
    },
    "id": "G8uYDI480EXd",
    "outputId": "2474d2c3-59d1-4f7c-a0a5-ff642fd75443"
   },
   "outputs": [],
   "source": [
    "train_data"
   ]
  },
  {
   "cell_type": "code",
   "execution_count": null,
   "metadata": {
    "colab": {
     "base_uri": "https://localhost:8080/",
     "height": 265
    },
    "executionInfo": {
     "elapsed": 88,
     "status": "ok",
     "timestamp": 1628837513263,
     "user": {
      "displayName": "서동혁",
      "photoUrl": "https://lh3.googleusercontent.com/a-/AOh14Gg71wtFCbtWxlC7qlDKDUXeUrBLgfU2JGLVV5w_=s64",
      "userId": "08630625503201634837"
     },
     "user_tz": -540
    },
    "id": "SfwGvw3w0EXe",
    "outputId": "6995fdfc-5faf-4aa1-b892-8fe70281e7a9"
   },
   "outputs": [],
   "source": [
    "index = 600\n",
    "plot_digit(train_data.values[index, 1:])\n",
    "plt.show()\n",
    "print('label: ', train_data.values[index, 0])"
   ]
  },
  {
   "cell_type": "code",
   "execution_count": null,
   "metadata": {
    "executionInfo": {
     "elapsed": 87,
     "status": "ok",
     "timestamp": 1628837513265,
     "user": {
      "displayName": "서동혁",
      "photoUrl": "https://lh3.googleusercontent.com/a-/AOh14Gg71wtFCbtWxlC7qlDKDUXeUrBLgfU2JGLVV5w_=s64",
      "userId": "08630625503201634837"
     },
     "user_tz": -540
    },
    "id": "z9d_GwUo0EXe"
   },
   "outputs": [],
   "source": [
    "def plot_digit(data):\n",
    "    image = data.reshape(28, 28)\n",
    "    plt.imshow(image, cmap = matplotlib.cm.binary,\n",
    "               interpolation=\"nearest\")\n",
    "    plt.axis(\"off\")"
   ]
  },
  {
   "cell_type": "code",
   "execution_count": null,
   "metadata": {
    "executionInfo": {
     "elapsed": 87,
     "status": "ok",
     "timestamp": 1628837513266,
     "user": {
      "displayName": "서동혁",
      "photoUrl": "https://lh3.googleusercontent.com/a-/AOh14Gg71wtFCbtWxlC7qlDKDUXeUrBLgfU2JGLVV5w_=s64",
      "userId": "08630625503201634837"
     },
     "user_tz": -540
    },
    "id": "g1squntd0EXf"
   },
   "outputs": [],
   "source": [
    "# 숫자 그림을 위한 추가 함수\n",
    "def plot_digits(instances, images_per_row=10, **options):\n",
    "    size = 28\n",
    "    images_per_row = min(len(instances), images_per_row)\n",
    "    images = [instance.reshape(size,size) for instance in instances]\n",
    "    n_rows = (len(instances) - 1) // images_per_row + 1\n",
    "    row_images = []\n",
    "    n_empty = n_rows * images_per_row - len(instances)\n",
    "    images.append(np.zeros((size, size * n_empty)))\n",
    "    for row in range(n_rows):\n",
    "        rimages = images[row * images_per_row : (row + 1) * images_per_row]\n",
    "        row_images.append(np.concatenate(rimages, axis=1))\n",
    "    image = np.concatenate(row_images, axis=0)\n",
    "    plt.imshow(image, cmap = matplotlib.cm.binary, **options)\n",
    "    plt.axis(\"off\")"
   ]
  },
  {
   "cell_type": "code",
   "execution_count": null,
   "metadata": {
    "colab": {
     "base_uri": "https://localhost:8080/",
     "height": 520
    },
    "executionInfo": {
     "elapsed": 893,
     "status": "ok",
     "timestamp": 1628837514073,
     "user": {
      "displayName": "서동혁",
      "photoUrl": "https://lh3.googleusercontent.com/a-/AOh14Gg71wtFCbtWxlC7qlDKDUXeUrBLgfU2JGLVV5w_=s64",
      "userId": "08630625503201634837"
     },
     "user_tz": -540
    },
    "id": "XFuWywoD0EXf",
    "outputId": "f2a405e1-d6ab-47c8-fec8-2d7e7ac0d698"
   },
   "outputs": [],
   "source": [
    "plt.figure(figsize=(9,9))\n",
    "example_images = train_data.values[:60000:600, 1:]\n",
    "plot_digits(example_images, images_per_row=10)\n",
    "plt.show()"
   ]
  },
  {
   "cell_type": "markdown",
   "metadata": {
    "id": "Y03X0wB50EXf"
   },
   "source": [
    "## Convert to 05 data"
   ]
  },
  {
   "cell_type": "code",
   "execution_count": null,
   "metadata": {
    "executionInfo": {
     "elapsed": 527,
     "status": "ok",
     "timestamp": 1628837514551,
     "user": {
      "displayName": "서동혁",
      "photoUrl": "https://lh3.googleusercontent.com/a-/AOh14Gg71wtFCbtWxlC7qlDKDUXeUrBLgfU2JGLVV5w_=s64",
      "userId": "08630625503201634837"
     },
     "user_tz": -540
    },
    "id": "OVYo3Yxi0EXg"
   },
   "outputs": [],
   "source": [
    "from sklearn.preprocessing import LabelEncoder\n",
    "\n",
    "le = LabelEncoder()\n",
    "\n",
    "le.fit(train_data.label == 5)\n",
    "\n",
    "train_data.label = le.transform(train_data.label == 5)\n",
    "test_data.label = le.transform(test_data.label == 5)"
   ]
  },
  {
   "cell_type": "markdown",
   "metadata": {
    "id": "-YzzsS900EXg"
   },
   "source": [
    "## Deep learning - classification 모델"
   ]
  },
  {
   "cell_type": "markdown",
   "metadata": {
    "id": "yEXM7skV0EXg"
   },
   "source": [
    "### Pytorch 모델에 입력하기 위한 데이터 변환"
   ]
  },
  {
   "cell_type": "code",
   "execution_count": null,
   "metadata": {
    "executionInfo": {
     "elapsed": 22,
     "status": "ok",
     "timestamp": 1628837514552,
     "user": {
      "displayName": "서동혁",
      "photoUrl": "https://lh3.googleusercontent.com/a-/AOh14Gg71wtFCbtWxlC7qlDKDUXeUrBLgfU2JGLVV5w_=s64",
      "userId": "08630625503201634837"
     },
     "user_tz": -540
    },
    "id": "Qt7qnFc40EXh"
   },
   "outputs": [],
   "source": [
    "train_data = torch.from_numpy(train_data.values).float()\n",
    "test_data = torch.from_numpy(test_data.values).float()"
   ]
  },
  {
   "cell_type": "code",
   "execution_count": null,
   "metadata": {
    "executionInfo": {
     "elapsed": 19,
     "status": "ok",
     "timestamp": 1628837514555,
     "user": {
      "displayName": "서동혁",
      "photoUrl": "https://lh3.googleusercontent.com/a-/AOh14Gg71wtFCbtWxlC7qlDKDUXeUrBLgfU2JGLVV5w_=s64",
      "userId": "08630625503201634837"
     },
     "user_tz": -540
    },
    "id": "lgcp_Oks0EXi"
   },
   "outputs": [],
   "source": [
    "BATCH_SIZE = 15\n",
    "epochs = 2\n",
    "learning_rate = 0.001"
   ]
  },
  {
   "cell_type": "code",
   "execution_count": null,
   "metadata": {
    "executionInfo": {
     "elapsed": 295,
     "status": "ok",
     "timestamp": 1628837523044,
     "user": {
      "displayName": "서동혁",
      "photoUrl": "https://lh3.googleusercontent.com/a-/AOh14Gg71wtFCbtWxlC7qlDKDUXeUrBLgfU2JGLVV5w_=s64",
      "userId": "08630625503201634837"
     },
     "user_tz": -540
    },
    "id": "Bie7sRWw0EXi"
   },
   "outputs": [],
   "source": [
    "\n",
    "data_loader = torch.utils.data.DataLoader(train_data,\n",
    "                            batch_size=BATCH_SIZE, \n",
    "                            shuffle=True, \n",
    "                            num_workers=0)"
   ]
  },
  {
   "cell_type": "markdown",
   "metadata": {
    "id": "zjICZRCn0EXj"
   },
   "source": [
    "### Deep learning 모델 정의 "
   ]
  },
  {
   "cell_type": "code",
   "execution_count": null,
   "metadata": {
    "colab": {
     "base_uri": "https://localhost:8080/"
    },
    "executionInfo": {
     "elapsed": 428,
     "status": "ok",
     "timestamp": 1628837549541,
     "user": {
      "displayName": "서동혁",
      "photoUrl": "https://lh3.googleusercontent.com/a-/AOh14Gg71wtFCbtWxlC7qlDKDUXeUrBLgfU2JGLVV5w_=s64",
      "userId": "08630625503201634837"
     },
     "user_tz": -540
    },
    "id": "fFgaGfhE0EXk",
    "outputId": "cb0d963d-c607-47d3-8951-e1560d30e317"
   },
   "outputs": [],
   "source": [
    "class DNNModel(nn.Module):\n",
    "    def __init__(self):\n",
    "        super(DNNModel, self).__init__()\n",
    "        self.layer1 = nn.Linear(28 *28, 300)\n",
    "        self.layer2 = nn.Linear(300, 2)\n",
    "        self.relu = nn.ReLU()\n",
    "    \n",
    "        \n",
    "    def forward(self, x):\n",
    "        \n",
    "        layers = nn.Sequential(self.layer1, \n",
    "                               self.relu,\n",
    "                               self.layer2, \n",
    "                               self.relu\n",
    "                               ).to(device)\n",
    "        out = layers(x)\n",
    "        return out\n",
    "    \n",
    "model = DNNModel()\n",
    "model"
   ]
  },
  {
   "cell_type": "code",
   "execution_count": null,
   "metadata": {
    "colab": {
     "base_uri": "https://localhost:8080/"
    },
    "executionInfo": {
     "elapsed": 668,
     "status": "ok",
     "timestamp": 1628823933341,
     "user": {
      "displayName": "서동혁",
      "photoUrl": "https://lh3.googleusercontent.com/a-/AOh14Gg71wtFCbtWxlC7qlDKDUXeUrBLgfU2JGLVV5w_=s64",
      "userId": "08630625503201634837"
     },
     "user_tz": -540
    },
    "id": "tMgLhdEy0EXl",
    "outputId": "7f8a83cc-4384-4568-daba-3b1786478c1f"
   },
   "outputs": [],
   "source": [
    "class DNNModel(nn.Module):\n",
    "    def __init__(self):\n",
    "        super(DNNModel, self).__init__()\n",
    "        self.layer1 = nn.Linear(28 *28, 300)\n",
    "        self.layer2 = nn.Linear(300, 100)\n",
    "        self.layer3 = nn.Linear(100, 2)\n",
    "        self.relu = nn.ReLU()\n",
    "    \n",
    "        \n",
    "    def forward(self, x):\n",
    "        \n",
    "        layers = nn.Sequential(self.layer1, \n",
    "                               self.relu,\n",
    "                               self.layer2, \n",
    "                               self.relu,\n",
    "                               self.layer3).to(device)\n",
    "        out = layers(x)\n",
    "        return out\n",
    "    \n",
    "model = DNNModel()\n",
    "model"
   ]
  },
  {
   "cell_type": "markdown",
   "metadata": {
    "id": "12GoU9ks0EXm"
   },
   "source": [
    "### 학습 시작"
   ]
  },
  {
   "cell_type": "markdown",
   "metadata": {
    "id": "31z3uz930EXm"
   },
   "source": [
    "GPU로 넘겨야 하는것\n",
    "- model의 layer\n",
    "- cost(criterion)\n",
    "- data"
   ]
  },
  {
   "cell_type": "markdown",
   "metadata": {
    "id": "Ku_D35s90EXm"
   },
   "source": [
    "#### torch.nn.CrossEntropyLoss() 함수에 대해\n",
    "원래 cross entropy는 "
   ]
  },
  {
   "cell_type": "code",
   "execution_count": null,
   "metadata": {
    "colab": {
     "base_uri": "https://localhost:8080/",
     "height": 169
    },
    "executionInfo": {
     "elapsed": 1129,
     "status": "ok",
     "timestamp": 1628837558697,
     "user": {
      "displayName": "서동혁",
      "photoUrl": "https://lh3.googleusercontent.com/a-/AOh14Gg71wtFCbtWxlC7qlDKDUXeUrBLgfU2JGLVV5w_=s64",
      "userId": "08630625503201634837"
     },
     "user_tz": -540
    },
    "id": "c0g6M5Co0EXm",
    "outputId": "2abd5a21-5218-40eb-ffc2-c53b6fc5459c"
   },
   "outputs": [],
   "source": [
    "from IPython.display import Image\n",
    "Image(basicpath + 'Image/cross_entropy.png')"
   ]
  },
  {
   "cell_type": "markdown",
   "metadata": {
    "id": "KeOiaj_k0EXn"
   },
   "source": [
    "pytorh.nn.CrossEntropyLoss() 는"
   ]
  },
  {
   "cell_type": "code",
   "execution_count": null,
   "metadata": {
    "colab": {
     "base_uri": "https://localhost:8080/",
     "height": 78
    },
    "executionInfo": {
     "elapsed": 591,
     "status": "ok",
     "timestamp": 1628837559275,
     "user": {
      "displayName": "서동혁",
      "photoUrl": "https://lh3.googleusercontent.com/a-/AOh14Gg71wtFCbtWxlC7qlDKDUXeUrBLgfU2JGLVV5w_=s64",
      "userId": "08630625503201634837"
     },
     "user_tz": -540
    },
    "id": "CbOdnz_k0EXn",
    "outputId": "52b9b779-2632-4d0e-b806-7b62fc45dffb"
   },
   "outputs": [],
   "source": [
    "from IPython.display import Image\n",
    "Image(basicpath + 'Image/torch_cross_entropy.png')"
   ]
  },
  {
   "cell_type": "markdown",
   "metadata": {
    "id": "bfxdahCy0EXn"
   },
   "source": [
    "softmax와 label의 elemental wise 곱을하면 label이 0인 확률들은 모두 없어지게 되어 아래 수식이 가능  \n",
    "따라서 class에는 one-hot encoding 되지 않은 값이 들어가야 함  \n",
    "x에는 soft max를 거치지 않은 벡터가 들어감(CrossEntropyLoss()에 softmax가 포함)"
   ]
  },
  {
   "cell_type": "code",
   "execution_count": null,
   "metadata": {
    "executionInfo": {
     "elapsed": 22,
     "status": "ok",
     "timestamp": 1628837559282,
     "user": {
      "displayName": "서동혁",
      "photoUrl": "https://lh3.googleusercontent.com/a-/AOh14Gg71wtFCbtWxlC7qlDKDUXeUrBLgfU2JGLVV5w_=s64",
      "userId": "08630625503201634837"
     },
     "user_tz": -540
    },
    "id": "Pf_Hn7cR0EXn"
   },
   "outputs": [],
   "source": [
    "criterion = nn.CrossEntropyLoss().to(device)\n",
    "optimizer = optim.Adam(model.parameters(), lr = learning_rate)"
   ]
  },
  {
   "cell_type": "code",
   "execution_count": null,
   "metadata": {
    "colab": {
     "base_uri": "https://localhost:8080/"
    },
    "executionInfo": {
     "elapsed": 18596,
     "status": "ok",
     "timestamp": 1628837577857,
     "user": {
      "displayName": "서동혁",
      "photoUrl": "https://lh3.googleusercontent.com/a-/AOh14Gg71wtFCbtWxlC7qlDKDUXeUrBLgfU2JGLVV5w_=s64",
      "userId": "08630625503201634837"
     },
     "user_tz": -540
    },
    "id": "gtVG_pI90EXo",
    "outputId": "f3a9abf9-9137-4153-e523-5f0f97aef906"
   },
   "outputs": [],
   "source": [
    "for epoch in range(epochs):\n",
    "    running_cost = 0.0\n",
    "\n",
    "    for step, (batch_data) in enumerate(data_loader):\n",
    "        batch_x = batch_data[:, 1:].view(-1, 28*28).to(device)\n",
    "        batch_y = batch_data[:, 0].to(device).long()\n",
    "        \n",
    "        optimizer.zero_grad()\n",
    "        \n",
    "        outputs = model(batch_x)\n",
    "        cost = criterion(outputs, batch_y)\n",
    "\n",
    "        cost.backward()\n",
    "        optimizer.step()\n",
    "        \n",
    "        running_cost += cost.item()\n",
    "        if step % 200 == 199:\n",
    "            print('[%d, %5d] cost: %.3f' % (epoch + 1, step + 1, running_cost / 200))\n",
    "            running_cost = 0.0\n",
    "            "
   ]
  },
  {
   "cell_type": "markdown",
   "metadata": {
    "id": "ShX4aHUp0EXp"
   },
   "source": [
    "## 정확도 판단"
   ]
  },
  {
   "cell_type": "markdown",
   "metadata": {
    "id": "4JOrIQlz0EXp"
   },
   "source": [
    "### Confusion matrix"
   ]
  },
  {
   "cell_type": "code",
   "execution_count": null,
   "metadata": {
    "executionInfo": {
     "elapsed": 464,
     "status": "ok",
     "timestamp": 1628837578290,
     "user": {
      "displayName": "서동혁",
      "photoUrl": "https://lh3.googleusercontent.com/a-/AOh14Gg71wtFCbtWxlC7qlDKDUXeUrBLgfU2JGLVV5w_=s64",
      "userId": "08630625503201634837"
     },
     "user_tz": -540
    },
    "id": "I1YmTeZ60EXr"
   },
   "outputs": [],
   "source": [
    "from sklearn.metrics import confusion_matrix\n",
    "from sklearn.metrics import precision_score, recall_score"
   ]
  },
  {
   "cell_type": "code",
   "execution_count": null,
   "metadata": {
    "colab": {
     "base_uri": "https://localhost:8080/"
    },
    "executionInfo": {
     "elapsed": 31,
     "status": "ok",
     "timestamp": 1628837578292,
     "user": {
      "displayName": "서동혁",
      "photoUrl": "https://lh3.googleusercontent.com/a-/AOh14Gg71wtFCbtWxlC7qlDKDUXeUrBLgfU2JGLVV5w_=s64",
      "userId": "08630625503201634837"
     },
     "user_tz": -540
    },
    "id": "nA9lYaoj0EXs",
    "outputId": "2baecfa0-81e0-40e7-e84c-a12c94de9a6e"
   },
   "outputs": [],
   "source": [
    "with torch.no_grad():\n",
    "    X_test = test_data[:, 1:].view(-1, 28 * 28).float().to(device)\n",
    "    y_test = test_data[:, 0].float()\n",
    "    \n",
    "    prediction = model(X_test).cpu()\n",
    "    print(confusion_matrix(y_test, torch.argmax(prediction, 1)))\n",
    "    print(\"==Precision==\")\n",
    "    print(precision_score(y_test, torch.argmax(prediction, 1), average=None))\n",
    "    print(precision_score(y_test, torch.argmax(prediction, 1), average='weighted'))\n",
    "    print(\"Recall\")\n",
    "    print(recall_score(y_test, torch.argmax(prediction, 1), average=None))\n",
    "    print(recall_score(y_test, torch.argmax(prediction, 1), average='weighted'))"
   ]
  },
  {
   "cell_type": "code",
   "execution_count": null,
   "metadata": {
    "executionInfo": {
     "elapsed": 29,
     "status": "ok",
     "timestamp": 1628837578294,
     "user": {
      "displayName": "서동혁",
      "photoUrl": "https://lh3.googleusercontent.com/a-/AOh14Gg71wtFCbtWxlC7qlDKDUXeUrBLgfU2JGLVV5w_=s64",
      "userId": "08630625503201634837"
     },
     "user_tz": -540
    },
    "id": "tNAxWOvrEAVa"
   },
   "outputs": [],
   "source": []
  }
 ],
 "metadata": {
  "accelerator": "GPU",
  "colab": {
   "collapsed_sections": [],
   "name": "514-Deeplearning_mnist05.ipynb",
   "provenance": []
  },
  "kernelspec": {
   "display_name": "Python 3",
   "language": "python",
   "name": "python3"
  },
  "language_info": {
   "codemirror_mode": {
    "name": "ipython",
    "version": 3
   },
   "file_extension": ".py",
   "mimetype": "text/x-python",
   "name": "python",
   "nbconvert_exporter": "python",
   "pygments_lexer": "ipython3",
   "version": "3.6.10"
  }
 },
 "nbformat": 4,
 "nbformat_minor": 1
}
