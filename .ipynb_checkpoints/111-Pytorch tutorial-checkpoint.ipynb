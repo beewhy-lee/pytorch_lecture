{
 "cells": [
  {
   "cell_type": "markdown",
   "metadata": {
    "id": "zDzZezp5x02B"
   },
   "source": [
    "# Pytorch tutorial"
   ]
  },
  {
   "cell_type": "markdown",
   "metadata": {
    "id": "qMhmEs1Px02E"
   },
   "source": [
    "## What is pytorch?\n",
    "- Numpy를 대체하며 GPU연산을 지원하는 tensor 구조 지원  \n",
    "CUDA(NDVIA에서 gpu를 통한 연산을 위해 만든 API)와 cuDNN(CUDA를 활용하여 딥러닝 gpu연산을 지원하는 API)을 활용하여 연산 가속  \n",
    "일반적으로 CUDA와 cuDNN을 활용하는 연산은 CPU연산의 15배정도 가속을 가져옴. \n",
    "\n",
    "\n",
    "- backward() 함수를 통한 그래프 미분 연산 지원"
   ]
  },
  {
   "cell_type": "markdown",
   "metadata": {
    "id": "f6CpHw3Gx02F"
   },
   "source": [
    "## Pytorch vs Tensorflow"
   ]
  },
  {
   "cell_type": "markdown",
   "metadata": {
    "id": "Ti5q8SOVx02F"
   },
   "source": [
    "#### 둘 모두 GPU를 활용하는 framework\n",
    "- Tensorflow  \n",
    "`Define and Run`방식  \n",
    "연산 그래프를 미리 만들어두고, 실제 연산시 값을 전달하여 결과를 얻음(정적)  \n",
    "직관적이지 않고 그래프를 정의하는 부분과 실행하는 부분이 분리되어 코드가 길어짐  \n",
    "최적화에서 장점\n",
    "\n",
    "\n",
    "- Pytorch  \n",
    "`Define by Run` 방식  \n",
    "연산 그래프를 미리 만들어두지 않고 값이 할당되어 전달되는 과정에서 그래프가 작성(동적)  \n",
    "직관적이고 간단한 코드  \n",
    "(Pytorch측의 주장으로는)Tensorflow보다 평균 2.5배정도 빠른 속도(적어도 밀리지는 않음)"
   ]
  },
  {
   "cell_type": "markdown",
   "metadata": {
    "id": "--2PsdO5x02F"
   },
   "source": [
    "## Tensor"
   ]
  },
  {
   "cell_type": "markdown",
   "metadata": {
    "id": "sl1Jxu8Ox02G"
   },
   "source": [
    "Tensor: Numpy의 ndarray와 유사한 matrix자료구조. GPU연산 가속이 가능"
   ]
  },
  {
   "cell_type": "code",
   "execution_count": null,
   "metadata": {
    "executionInfo": {
     "elapsed": 2758,
     "status": "ok",
     "timestamp": 1628751040435,
     "user": {
      "displayName": "서동혁",
      "photoUrl": "https://lh3.googleusercontent.com/a-/AOh14Gg71wtFCbtWxlC7qlDKDUXeUrBLgfU2JGLVV5w_=s64",
      "userId": "08630625503201634837"
     },
     "user_tz": -540
    },
    "id": "7RLJYZlRx02G"
   },
   "outputs": [],
   "source": [
    "import torch\n",
    "import numpy as np"
   ]
  },
  {
   "cell_type": "markdown",
   "metadata": {
    "id": "xbEY07RKx02G"
   },
   "source": [
    "### Tensor 생성"
   ]
  },
  {
   "cell_type": "code",
   "execution_count": null,
   "metadata": {
    "colab": {
     "base_uri": "https://localhost:8080/"
    },
    "executionInfo": {
     "elapsed": 25,
     "status": "ok",
     "timestamp": 1628751040436,
     "user": {
      "displayName": "서동혁",
      "photoUrl": "https://lh3.googleusercontent.com/a-/AOh14Gg71wtFCbtWxlC7qlDKDUXeUrBLgfU2JGLVV5w_=s64",
      "userId": "08630625503201634837"
     },
     "user_tz": -540
    },
    "id": "dkopew_ix02H",
    "outputId": "149cd657-e25e-43ed-dda1-6107af1a0da1"
   },
   "outputs": [],
   "source": [
    "not_initialized = torch.empty(3, 4)\n",
    "not_initialized"
   ]
  },
  {
   "cell_type": "code",
   "execution_count": null,
   "metadata": {
    "colab": {
     "base_uri": "https://localhost:8080/"
    },
    "executionInfo": {
     "elapsed": 15,
     "status": "ok",
     "timestamp": 1628751045043,
     "user": {
      "displayName": "서동혁",
      "photoUrl": "https://lh3.googleusercontent.com/a-/AOh14Gg71wtFCbtWxlC7qlDKDUXeUrBLgfU2JGLVV5w_=s64",
      "userId": "08630625503201634837"
     },
     "user_tz": -540
    },
    "id": "Xyx150Ppx02H",
    "outputId": "0c648337-8af0-42cf-e995-f4b971196cf0"
   },
   "outputs": [],
   "source": [
    "random_initialized = torch.rand(3, 4)\n",
    "random_initialized"
   ]
  },
  {
   "cell_type": "code",
   "execution_count": null,
   "metadata": {
    "colab": {
     "base_uri": "https://localhost:8080/"
    },
    "executionInfo": {
     "elapsed": 12,
     "status": "ok",
     "timestamp": 1628751046338,
     "user": {
      "displayName": "서동혁",
      "photoUrl": "https://lh3.googleusercontent.com/a-/AOh14Gg71wtFCbtWxlC7qlDKDUXeUrBLgfU2JGLVV5w_=s64",
      "userId": "08630625503201634837"
     },
     "user_tz": -540
    },
    "id": "Q1thWlgxx02I",
    "outputId": "4f3d21f9-5bc9-483c-ef7a-1c5202516cd3"
   },
   "outputs": [],
   "source": [
    "zero_initialized = torch.zeros(3, 4)\n",
    "zero_initialized"
   ]
  },
  {
   "cell_type": "code",
   "execution_count": null,
   "metadata": {
    "colab": {
     "base_uri": "https://localhost:8080/"
    },
    "executionInfo": {
     "elapsed": 48,
     "status": "ok",
     "timestamp": 1628751047256,
     "user": {
      "displayName": "서동혁",
      "photoUrl": "https://lh3.googleusercontent.com/a-/AOh14Gg71wtFCbtWxlC7qlDKDUXeUrBLgfU2JGLVV5w_=s64",
      "userId": "08630625503201634837"
     },
     "user_tz": -540
    },
    "id": "idNHRz3px02I",
    "outputId": "2a51f162-9a1e-4df0-a33f-16845db5dc4a"
   },
   "outputs": [],
   "source": [
    "list_initialized = torch.tensor([[1, 2],[3, 4]])\n",
    "list_initialized"
   ]
  },
  {
   "cell_type": "code",
   "execution_count": null,
   "metadata": {
    "colab": {
     "base_uri": "https://localhost:8080/"
    },
    "executionInfo": {
     "elapsed": 38,
     "status": "ok",
     "timestamp": 1628751047259,
     "user": {
      "displayName": "서동혁",
      "photoUrl": "https://lh3.googleusercontent.com/a-/AOh14Gg71wtFCbtWxlC7qlDKDUXeUrBLgfU2JGLVV5w_=s64",
      "userId": "08630625503201634837"
     },
     "user_tz": -540
    },
    "id": "ZLVVxFE5x02J",
    "outputId": "907ecb19-41e0-4fb7-c392-5afbdfee962b"
   },
   "outputs": [],
   "source": [
    "arange_lnitiaized = torch.arange(10)\n",
    "arange_lnitiaized"
   ]
  },
  {
   "cell_type": "markdown",
   "metadata": {
    "id": "338U0oH5x02J"
   },
   "source": [
    "### Tensor와 numpy간의 변환"
   ]
  },
  {
   "cell_type": "code",
   "execution_count": null,
   "metadata": {
    "colab": {
     "base_uri": "https://localhost:8080/"
    },
    "executionInfo": {
     "elapsed": 308,
     "status": "ok",
     "timestamp": 1628751063899,
     "user": {
      "displayName": "서동혁",
      "photoUrl": "https://lh3.googleusercontent.com/a-/AOh14Gg71wtFCbtWxlC7qlDKDUXeUrBLgfU2JGLVV5w_=s64",
      "userId": "08630625503201634837"
     },
     "user_tz": -540
    },
    "id": "iNnT6_2Ix02J",
    "outputId": "7742d924-3ebb-4774-a5c9-a66d6418921a"
   },
   "outputs": [],
   "source": [
    "x = torch.ones(10)\n",
    "x, type(x)"
   ]
  },
  {
   "cell_type": "code",
   "execution_count": null,
   "metadata": {
    "colab": {
     "base_uri": "https://localhost:8080/"
    },
    "executionInfo": {
     "elapsed": 299,
     "status": "ok",
     "timestamp": 1628751081771,
     "user": {
      "displayName": "서동혁",
      "photoUrl": "https://lh3.googleusercontent.com/a-/AOh14Gg71wtFCbtWxlC7qlDKDUXeUrBLgfU2JGLVV5w_=s64",
      "userId": "08630625503201634837"
     },
     "user_tz": -540
    },
    "id": "B-KguJxwx02K",
    "outputId": "aaa687e1-c85f-4373-b33f-eeba5545d86b"
   },
   "outputs": [],
   "source": [
    "y = x.numpy()\n",
    "y, type(y)"
   ]
  },
  {
   "cell_type": "code",
   "execution_count": null,
   "metadata": {
    "colab": {
     "base_uri": "https://localhost:8080/"
    },
    "executionInfo": {
     "elapsed": 288,
     "status": "ok",
     "timestamp": 1628751094706,
     "user": {
      "displayName": "서동혁",
      "photoUrl": "https://lh3.googleusercontent.com/a-/AOh14Gg71wtFCbtWxlC7qlDKDUXeUrBLgfU2JGLVV5w_=s64",
      "userId": "08630625503201634837"
     },
     "user_tz": -540
    },
    "id": "wFWL03tEx02K",
    "outputId": "bf1e8d19-4eef-407d-a771-51a3a6c8aa8f"
   },
   "outputs": [],
   "source": [
    "z = torch.from_numpy(y)\n",
    "z"
   ]
  },
  {
   "cell_type": "markdown",
   "metadata": {
    "id": "17AkaO-rx02L"
   },
   "source": [
    "#### 주의사항 - tensor와 ndarray는 메모리공간을 공유함"
   ]
  },
  {
   "cell_type": "code",
   "execution_count": null,
   "metadata": {
    "colab": {
     "base_uri": "https://localhost:8080/"
    },
    "executionInfo": {
     "elapsed": 586,
     "status": "ok",
     "timestamp": 1628751131620,
     "user": {
      "displayName": "서동혁",
      "photoUrl": "https://lh3.googleusercontent.com/a-/AOh14Gg71wtFCbtWxlC7qlDKDUXeUrBLgfU2JGLVV5w_=s64",
      "userId": "08630625503201634837"
     },
     "user_tz": -540
    },
    "id": "QhFw8HxRx02M",
    "outputId": "ab6fc81b-c095-4cc8-dc1c-4601016213e1"
   },
   "outputs": [],
   "source": [
    "x.add_(1)"
   ]
  },
  {
   "cell_type": "code",
   "execution_count": null,
   "metadata": {
    "colab": {
     "base_uri": "https://localhost:8080/"
    },
    "executionInfo": {
     "elapsed": 332,
     "status": "ok",
     "timestamp": 1628751134321,
     "user": {
      "displayName": "서동혁",
      "photoUrl": "https://lh3.googleusercontent.com/a-/AOh14Gg71wtFCbtWxlC7qlDKDUXeUrBLgfU2JGLVV5w_=s64",
      "userId": "08630625503201634837"
     },
     "user_tz": -540
    },
    "id": "lJycARKlx02N",
    "outputId": "d6e65794-16cd-43b3-eec8-d396667576be"
   },
   "outputs": [],
   "source": [
    "x"
   ]
  },
  {
   "cell_type": "code",
   "execution_count": null,
   "metadata": {
    "colab": {
     "base_uri": "https://localhost:8080/"
    },
    "executionInfo": {
     "elapsed": 286,
     "status": "ok",
     "timestamp": 1628751139640,
     "user": {
      "displayName": "서동혁",
      "photoUrl": "https://lh3.googleusercontent.com/a-/AOh14Gg71wtFCbtWxlC7qlDKDUXeUrBLgfU2JGLVV5w_=s64",
      "userId": "08630625503201634837"
     },
     "user_tz": -540
    },
    "id": "uXRTal76x02O",
    "outputId": "a994478a-07a5-4665-d6db-177da1723bc3"
   },
   "outputs": [],
   "source": [
    "y, z"
   ]
  },
  {
   "cell_type": "markdown",
   "metadata": {
    "id": "uvcc7CBKx02O"
   },
   "source": [
    "### Tensor 특성"
   ]
  },
  {
   "cell_type": "code",
   "execution_count": null,
   "metadata": {
    "colab": {
     "base_uri": "https://localhost:8080/"
    },
    "executionInfo": {
     "elapsed": 283,
     "status": "ok",
     "timestamp": 1628751197718,
     "user": {
      "displayName": "서동혁",
      "photoUrl": "https://lh3.googleusercontent.com/a-/AOh14Gg71wtFCbtWxlC7qlDKDUXeUrBLgfU2JGLVV5w_=s64",
      "userId": "08630625503201634837"
     },
     "user_tz": -540
    },
    "id": "AG3JYwnzx02O",
    "outputId": "41ab7090-2512-41b9-b17c-d887330c5d47"
   },
   "outputs": [],
   "source": [
    "list_initialized.shape, list_initialized.ndim"
   ]
  },
  {
   "cell_type": "code",
   "execution_count": null,
   "metadata": {
    "colab": {
     "base_uri": "https://localhost:8080/"
    },
    "executionInfo": {
     "elapsed": 22,
     "status": "ok",
     "timestamp": 1628751198380,
     "user": {
      "displayName": "서동혁",
      "photoUrl": "https://lh3.googleusercontent.com/a-/AOh14Gg71wtFCbtWxlC7qlDKDUXeUrBLgfU2JGLVV5w_=s64",
      "userId": "08630625503201634837"
     },
     "user_tz": -540
    },
    "id": "ucigRgKUx02P",
    "outputId": "0d8b6524-5f55-4b49-af0a-c9a17567d95c"
   },
   "outputs": [],
   "source": [
    "list_initialized.size()"
   ]
  },
  {
   "cell_type": "markdown",
   "metadata": {
    "id": "B90aXEdUx02P"
   },
   "source": [
    "### Tensor reshape vs view"
   ]
  },
  {
   "cell_type": "markdown",
   "metadata": {
    "id": "dU3aoArKx02P"
   },
   "source": [
    "-  두 함수는 기본적으로 같은 기능을 하나, view는 shallow copy이다.\n",
    "-  그러나, reshape이 deep copy인 것은 아니다. reshape은 상황에 따라 deep/shallow를 넘나든다.\n",
    "-  Reshape은 Contiguous한 operate를 지원하나, view는 지원하지 않는다."
   ]
  },
  {
   "cell_type": "code",
   "execution_count": null,
   "metadata": {
    "colab": {
     "base_uri": "https://localhost:8080/"
    },
    "executionInfo": {
     "elapsed": 396,
     "status": "ok",
     "timestamp": 1628751551190,
     "user": {
      "displayName": "서동혁",
      "photoUrl": "https://lh3.googleusercontent.com/a-/AOh14Gg71wtFCbtWxlC7qlDKDUXeUrBLgfU2JGLVV5w_=s64",
      "userId": "08630625503201634837"
     },
     "user_tz": -540
    },
    "id": "UmoUKOCMx02Q",
    "outputId": "06eeadbe-20ec-405a-c0d1-615ae7d74835"
   },
   "outputs": [],
   "source": [
    "list_initialized.t()"
   ]
  },
  {
   "cell_type": "code",
   "execution_count": null,
   "metadata": {
    "colab": {
     "base_uri": "https://localhost:8080/"
    },
    "executionInfo": {
     "elapsed": 699,
     "status": "ok",
     "timestamp": 1628751556205,
     "user": {
      "displayName": "서동혁",
      "photoUrl": "https://lh3.googleusercontent.com/a-/AOh14Gg71wtFCbtWxlC7qlDKDUXeUrBLgfU2JGLVV5w_=s64",
      "userId": "08630625503201634837"
     },
     "user_tz": -540
    },
    "id": "izUaMP4_x02Q",
    "outputId": "6d0ba4ac-a0b5-4952-fdf6-fd4e48b1eb29"
   },
   "outputs": [],
   "source": [
    "list_initialized.t().reshape(-1, 1)"
   ]
  },
  {
   "cell_type": "code",
   "execution_count": null,
   "metadata": {
    "colab": {
     "base_uri": "https://localhost:8080/",
     "height": 186
    },
    "executionInfo": {
     "elapsed": 324,
     "status": "error",
     "timestamp": 1628751561998,
     "user": {
      "displayName": "서동혁",
      "photoUrl": "https://lh3.googleusercontent.com/a-/AOh14Gg71wtFCbtWxlC7qlDKDUXeUrBLgfU2JGLVV5w_=s64",
      "userId": "08630625503201634837"
     },
     "user_tz": -540
    },
    "id": "rdmEsITax02Q",
    "outputId": "333fcc27-b391-4598-a981-9cd902530f8c"
   },
   "outputs": [],
   "source": [
    "list_initialized.t().view(-1, 1) # Error!"
   ]
  },
  {
   "cell_type": "markdown",
   "metadata": {
    "id": "raF8YpmQx02R"
   },
   "source": [
    "### Tensor의 배열 연산"
   ]
  },
  {
   "cell_type": "markdown",
   "metadata": {
    "id": "9CcCJ8lvx02R"
   },
   "source": [
    "인덱싱, 슬라이싱, 선형대수 등 각종 연산 numpy와 동일하게 수행 가능"
   ]
  },
  {
   "cell_type": "markdown",
   "metadata": {
    "id": "JUfLQ1FPx02R"
   },
   "source": [
    "#### 기본연산"
   ]
  },
  {
   "cell_type": "code",
   "execution_count": null,
   "metadata": {
    "colab": {
     "base_uri": "https://localhost:8080/"
    },
    "executionInfo": {
     "elapsed": 310,
     "status": "ok",
     "timestamp": 1628751614237,
     "user": {
      "displayName": "서동혁",
      "photoUrl": "https://lh3.googleusercontent.com/a-/AOh14Gg71wtFCbtWxlC7qlDKDUXeUrBLgfU2JGLVV5w_=s64",
      "userId": "08630625503201634837"
     },
     "user_tz": -540
    },
    "id": "QkMcYGOJx02R",
    "outputId": "6de1bf7d-886f-40f9-928e-1c95f134db95"
   },
   "outputs": [],
   "source": [
    "x = torch.arange(1, 11).reshape(2, 5)\n",
    "y = torch.arange(1, 20, step=2).reshape(2, 5)\n",
    "x, y"
   ]
  },
  {
   "cell_type": "code",
   "execution_count": null,
   "metadata": {
    "colab": {
     "base_uri": "https://localhost:8080/"
    },
    "executionInfo": {
     "elapsed": 37,
     "status": "ok",
     "timestamp": 1628751616276,
     "user": {
      "displayName": "서동혁",
      "photoUrl": "https://lh3.googleusercontent.com/a-/AOh14Gg71wtFCbtWxlC7qlDKDUXeUrBLgfU2JGLVV5w_=s64",
      "userId": "08630625503201634837"
     },
     "user_tz": -540
    },
    "id": "pHS53G0ix02R",
    "outputId": "7b50ac13-82eb-441c-c532-4915386955db"
   },
   "outputs": [],
   "source": [
    "x + y, torch.add(x, y)"
   ]
  },
  {
   "cell_type": "code",
   "execution_count": null,
   "metadata": {
    "colab": {
     "base_uri": "https://localhost:8080/"
    },
    "executionInfo": {
     "elapsed": 34,
     "status": "ok",
     "timestamp": 1628751616280,
     "user": {
      "displayName": "서동혁",
      "photoUrl": "https://lh3.googleusercontent.com/a-/AOh14Gg71wtFCbtWxlC7qlDKDUXeUrBLgfU2JGLVV5w_=s64",
      "userId": "08630625503201634837"
     },
     "user_tz": -540
    },
    "id": "y1mMo_Whx02S",
    "outputId": "65bff699-854a-48fb-cdb7-aa55344424cf"
   },
   "outputs": [],
   "source": [
    "x - y, torch.sub(x, y)"
   ]
  },
  {
   "cell_type": "code",
   "execution_count": null,
   "metadata": {
    "colab": {
     "base_uri": "https://localhost:8080/"
    },
    "executionInfo": {
     "elapsed": 13,
     "status": "ok",
     "timestamp": 1628751616914,
     "user": {
      "displayName": "서동혁",
      "photoUrl": "https://lh3.googleusercontent.com/a-/AOh14Gg71wtFCbtWxlC7qlDKDUXeUrBLgfU2JGLVV5w_=s64",
      "userId": "08630625503201634837"
     },
     "user_tz": -540
    },
    "id": "bzHgtEaqx02S",
    "outputId": "572607b4-d3cd-4aca-953d-6170fe35ca96"
   },
   "outputs": [],
   "source": [
    "x * y"
   ]
  },
  {
   "cell_type": "code",
   "execution_count": null,
   "metadata": {
    "colab": {
     "base_uri": "https://localhost:8080/"
    },
    "executionInfo": {
     "elapsed": 15,
     "status": "ok",
     "timestamp": 1628751617360,
     "user": {
      "displayName": "서동혁",
      "photoUrl": "https://lh3.googleusercontent.com/a-/AOh14Gg71wtFCbtWxlC7qlDKDUXeUrBLgfU2JGLVV5w_=s64",
      "userId": "08630625503201634837"
     },
     "user_tz": -540
    },
    "id": "hIGgmuq7x02T",
    "outputId": "de35a5dd-fd15-4ba5-dac4-6be76e0ad7c2"
   },
   "outputs": [],
   "source": [
    "y % x"
   ]
  },
  {
   "cell_type": "markdown",
   "metadata": {
    "id": "lL2LSkECx02T"
   },
   "source": [
    "#### 행렬곱"
   ]
  },
  {
   "cell_type": "code",
   "execution_count": null,
   "metadata": {
    "colab": {
     "base_uri": "https://localhost:8080/"
    },
    "executionInfo": {
     "elapsed": 8,
     "status": "ok",
     "timestamp": 1628751620671,
     "user": {
      "displayName": "서동혁",
      "photoUrl": "https://lh3.googleusercontent.com/a-/AOh14Gg71wtFCbtWxlC7qlDKDUXeUrBLgfU2JGLVV5w_=s64",
      "userId": "08630625503201634837"
     },
     "user_tz": -540
    },
    "id": "29IFDX0ix02V",
    "outputId": "5b1c75a9-d889-43ed-97c6-5c667780e072"
   },
   "outputs": [],
   "source": [
    "x.matmul(y.reshape(5, 2))"
   ]
  },
  {
   "cell_type": "markdown",
   "metadata": {
    "id": "q2We-2vcx02W"
   },
   "source": [
    "#### 바꿔치기(in-place) 와 반환하기(out-of-place)"
   ]
  },
  {
   "cell_type": "code",
   "execution_count": null,
   "metadata": {
    "colab": {
     "base_uri": "https://localhost:8080/"
    },
    "executionInfo": {
     "elapsed": 661,
     "status": "ok",
     "timestamp": 1628751624605,
     "user": {
      "displayName": "서동혁",
      "photoUrl": "https://lh3.googleusercontent.com/a-/AOh14Gg71wtFCbtWxlC7qlDKDUXeUrBLgfU2JGLVV5w_=s64",
      "userId": "08630625503201634837"
     },
     "user_tz": -540
    },
    "id": "8HG01Ygxx02W",
    "outputId": "231c0e64-0534-48a0-fbfa-21e34615af78"
   },
   "outputs": [],
   "source": [
    "x"
   ]
  },
  {
   "cell_type": "code",
   "execution_count": null,
   "metadata": {
    "colab": {
     "base_uri": "https://localhost:8080/"
    },
    "executionInfo": {
     "elapsed": 25,
     "status": "ok",
     "timestamp": 1628751625646,
     "user": {
      "displayName": "서동혁",
      "photoUrl": "https://lh3.googleusercontent.com/a-/AOh14Gg71wtFCbtWxlC7qlDKDUXeUrBLgfU2JGLVV5w_=s64",
      "userId": "08630625503201634837"
     },
     "user_tz": -540
    },
    "id": "j1N3zBVWx02X",
    "outputId": "58325b06-2780-4155-aaac-d956fbdcdf63"
   },
   "outputs": [],
   "source": [
    "x.add(3)"
   ]
  },
  {
   "cell_type": "code",
   "execution_count": null,
   "metadata": {
    "colab": {
     "base_uri": "https://localhost:8080/"
    },
    "executionInfo": {
     "elapsed": 34,
     "status": "ok",
     "timestamp": 1628751625998,
     "user": {
      "displayName": "서동혁",
      "photoUrl": "https://lh3.googleusercontent.com/a-/AOh14Gg71wtFCbtWxlC7qlDKDUXeUrBLgfU2JGLVV5w_=s64",
      "userId": "08630625503201634837"
     },
     "user_tz": -540
    },
    "id": "oisQKd1ex02X",
    "outputId": "68b052ab-c597-4d39-d9ed-eec4e286cf67"
   },
   "outputs": [],
   "source": [
    "x"
   ]
  },
  {
   "cell_type": "code",
   "execution_count": null,
   "metadata": {
    "colab": {
     "base_uri": "https://localhost:8080/"
    },
    "executionInfo": {
     "elapsed": 32,
     "status": "ok",
     "timestamp": 1628751626000,
     "user": {
      "displayName": "서동혁",
      "photoUrl": "https://lh3.googleusercontent.com/a-/AOh14Gg71wtFCbtWxlC7qlDKDUXeUrBLgfU2JGLVV5w_=s64",
      "userId": "08630625503201634837"
     },
     "user_tz": -540
    },
    "id": "jxYWAxDrx02X",
    "outputId": "04d6a75e-cddf-4924-fd8a-46c2a5154d5c"
   },
   "outputs": [],
   "source": [
    "x.add_(3)"
   ]
  },
  {
   "cell_type": "code",
   "execution_count": null,
   "metadata": {
    "colab": {
     "base_uri": "https://localhost:8080/"
    },
    "executionInfo": {
     "elapsed": 19,
     "status": "ok",
     "timestamp": 1628751626001,
     "user": {
      "displayName": "서동혁",
      "photoUrl": "https://lh3.googleusercontent.com/a-/AOh14Gg71wtFCbtWxlC7qlDKDUXeUrBLgfU2JGLVV5w_=s64",
      "userId": "08630625503201634837"
     },
     "user_tz": -540
    },
    "id": "EVu26uLTx02Y",
    "outputId": "11b4d96e-6142-477c-d59f-37676cc0c81c"
   },
   "outputs": [],
   "source": [
    "x"
   ]
  },
  {
   "cell_type": "markdown",
   "metadata": {
    "id": "4a5aKLBXx02Y"
   },
   "source": [
    "#### 헷갈리는 경우"
   ]
  },
  {
   "cell_type": "code",
   "execution_count": null,
   "metadata": {
    "colab": {
     "base_uri": "https://localhost:8080/"
    },
    "executionInfo": {
     "elapsed": 279,
     "status": "ok",
     "timestamp": 1628751628810,
     "user": {
      "displayName": "서동혁",
      "photoUrl": "https://lh3.googleusercontent.com/a-/AOh14Gg71wtFCbtWxlC7qlDKDUXeUrBLgfU2JGLVV5w_=s64",
      "userId": "08630625503201634837"
     },
     "user_tz": -540
    },
    "id": "NnbIKWYMx02Y",
    "outputId": "f316bb98-fd65-45a5-fc4a-51045d478b2c"
   },
   "outputs": [],
   "source": [
    "z = x.numpy()\n",
    "x = x.add(3)\n",
    "print('x:',x)\n",
    "print('z:',z)\n",
    "print('========================')\n",
    "x.add_(3)\n",
    "print('x:', x)\n",
    "print('z:', z)"
   ]
  },
  {
   "cell_type": "markdown",
   "metadata": {
    "id": "hX1Sm7uUx02Z"
   },
   "source": [
    "#### Indexing and slicing"
   ]
  },
  {
   "cell_type": "code",
   "execution_count": null,
   "metadata": {
    "colab": {
     "base_uri": "https://localhost:8080/"
    },
    "executionInfo": {
     "elapsed": 11,
     "status": "ok",
     "timestamp": 1628751630099,
     "user": {
      "displayName": "서동혁",
      "photoUrl": "https://lh3.googleusercontent.com/a-/AOh14Gg71wtFCbtWxlC7qlDKDUXeUrBLgfU2JGLVV5w_=s64",
      "userId": "08630625503201634837"
     },
     "user_tz": -540
    },
    "id": "2_V9hjIlx02Z",
    "outputId": "8ae43022-fd1e-40e2-8c01-353e053d6569"
   },
   "outputs": [],
   "source": [
    "x[0, 3]"
   ]
  },
  {
   "cell_type": "code",
   "execution_count": null,
   "metadata": {
    "colab": {
     "base_uri": "https://localhost:8080/"
    },
    "executionInfo": {
     "elapsed": 432,
     "status": "ok",
     "timestamp": 1628751632658,
     "user": {
      "displayName": "서동혁",
      "photoUrl": "https://lh3.googleusercontent.com/a-/AOh14Gg71wtFCbtWxlC7qlDKDUXeUrBLgfU2JGLVV5w_=s64",
      "userId": "08630625503201634837"
     },
     "user_tz": -540
    },
    "id": "YX2x4191x02a",
    "outputId": "c7debe42-a917-4ce0-cdf1-cf796deb86b3"
   },
   "outputs": [],
   "source": [
    "x[:, 1:4]"
   ]
  },
  {
   "cell_type": "markdown",
   "metadata": {
    "id": "CEIa8Tfdx02a"
   },
   "source": [
    "### Aggregation"
   ]
  },
  {
   "cell_type": "code",
   "execution_count": null,
   "metadata": {
    "colab": {
     "base_uri": "https://localhost:8080/"
    },
    "executionInfo": {
     "elapsed": 322,
     "status": "ok",
     "timestamp": 1628751648837,
     "user": {
      "displayName": "서동혁",
      "photoUrl": "https://lh3.googleusercontent.com/a-/AOh14Gg71wtFCbtWxlC7qlDKDUXeUrBLgfU2JGLVV5w_=s64",
      "userId": "08630625503201634837"
     },
     "user_tz": -540
    },
    "id": "6DvHNt9Fx02a",
    "outputId": "f79eff15-fe63-4614-8197-d88b33ee889d"
   },
   "outputs": [],
   "source": [
    "x"
   ]
  },
  {
   "cell_type": "code",
   "execution_count": null,
   "metadata": {
    "colab": {
     "base_uri": "https://localhost:8080/"
    },
    "executionInfo": {
     "elapsed": 44,
     "status": "ok",
     "timestamp": 1628751650684,
     "user": {
      "displayName": "서동혁",
      "photoUrl": "https://lh3.googleusercontent.com/a-/AOh14Gg71wtFCbtWxlC7qlDKDUXeUrBLgfU2JGLVV5w_=s64",
      "userId": "08630625503201634837"
     },
     "user_tz": -540
    },
    "id": "u_UdSVccx02a",
    "outputId": "4e01cacd-d02d-4b20-e703-97375a5ef7e8"
   },
   "outputs": [],
   "source": [
    "x.sum()"
   ]
  },
  {
   "cell_type": "code",
   "execution_count": null,
   "metadata": {
    "colab": {
     "base_uri": "https://localhost:8080/"
    },
    "executionInfo": {
     "elapsed": 39,
     "status": "ok",
     "timestamp": 1628751650686,
     "user": {
      "displayName": "서동혁",
      "photoUrl": "https://lh3.googleusercontent.com/a-/AOh14Gg71wtFCbtWxlC7qlDKDUXeUrBLgfU2JGLVV5w_=s64",
      "userId": "08630625503201634837"
     },
     "user_tz": -540
    },
    "id": "LOgoUkzwx02b",
    "outputId": "60d33cb4-8b62-4618-cacf-ced3a59aaf8a"
   },
   "outputs": [],
   "source": [
    "x.sum(dim=0), x.sum(axis=0)"
   ]
  },
  {
   "cell_type": "code",
   "execution_count": null,
   "metadata": {
    "colab": {
     "base_uri": "https://localhost:8080/"
    },
    "executionInfo": {
     "elapsed": 9,
     "status": "ok",
     "timestamp": 1628751651259,
     "user": {
      "displayName": "서동혁",
      "photoUrl": "https://lh3.googleusercontent.com/a-/AOh14Gg71wtFCbtWxlC7qlDKDUXeUrBLgfU2JGLVV5w_=s64",
      "userId": "08630625503201634837"
     },
     "user_tz": -540
    },
    "id": "-tj79e6ox02b",
    "outputId": "059b8c95-efd7-40fa-b0ad-9d085eb75b56"
   },
   "outputs": [],
   "source": [
    "x.sum(dim=1), x.sum(axis=1)"
   ]
  },
  {
   "cell_type": "markdown",
   "metadata": {
    "id": "qxcN0l0Ex02b"
   },
   "source": [
    "#### Can't use mean() on integers"
   ]
  },
  {
   "cell_type": "code",
   "execution_count": null,
   "metadata": {
    "colab": {
     "base_uri": "https://localhost:8080/"
    },
    "executionInfo": {
     "elapsed": 368,
     "status": "ok",
     "timestamp": 1628751761104,
     "user": {
      "displayName": "서동혁",
      "photoUrl": "https://lh3.googleusercontent.com/a-/AOh14Gg71wtFCbtWxlC7qlDKDUXeUrBLgfU2JGLVV5w_=s64",
      "userId": "08630625503201634837"
     },
     "user_tz": -540
    },
    "id": "K4ZdPa49x02b",
    "outputId": "b11cbd38-7069-4e12-8c12-f86386e0b2b2"
   },
   "outputs": [],
   "source": [
    "x.dtype, x"
   ]
  },
  {
   "cell_type": "code",
   "execution_count": null,
   "metadata": {
    "colab": {
     "base_uri": "https://localhost:8080/"
    },
    "executionInfo": {
     "elapsed": 303,
     "status": "ok",
     "timestamp": 1628751778774,
     "user": {
      "displayName": "서동혁",
      "photoUrl": "https://lh3.googleusercontent.com/a-/AOh14Gg71wtFCbtWxlC7qlDKDUXeUrBLgfU2JGLVV5w_=s64",
      "userId": "08630625503201634837"
     },
     "user_tz": -540
    },
    "id": "OsawsBLqx02b",
    "outputId": "1b230922-724a-4b37-d347-89ef5e61fc57"
   },
   "outputs": [],
   "source": [
    "try:\n",
    "    print(x.mean(dim=0))\n",
    "except Exception as exc:\n",
    "    print(exc)"
   ]
  },
  {
   "cell_type": "code",
   "execution_count": null,
   "metadata": {
    "colab": {
     "base_uri": "https://localhost:8080/"
    },
    "executionInfo": {
     "elapsed": 303,
     "status": "ok",
     "timestamp": 1628751865227,
     "user": {
      "displayName": "서동혁",
      "photoUrl": "https://lh3.googleusercontent.com/a-/AOh14Gg71wtFCbtWxlC7qlDKDUXeUrBLgfU2JGLVV5w_=s64",
      "userId": "08630625503201634837"
     },
     "user_tz": -540
    },
    "id": "ZKxc0Jy_x02c",
    "outputId": "aac2169b-0f5a-47be-f818-0f7a2dfe4fc1"
   },
   "outputs": [],
   "source": [
    "# x = torch.arange(1, 11, dtype=float).reshape(2, 5)\n",
    "x = x.float()\n",
    "x"
   ]
  },
  {
   "cell_type": "code",
   "execution_count": null,
   "metadata": {
    "colab": {
     "base_uri": "https://localhost:8080/"
    },
    "executionInfo": {
     "elapsed": 305,
     "status": "ok",
     "timestamp": 1628751870607,
     "user": {
      "displayName": "서동혁",
      "photoUrl": "https://lh3.googleusercontent.com/a-/AOh14Gg71wtFCbtWxlC7qlDKDUXeUrBLgfU2JGLVV5w_=s64",
      "userId": "08630625503201634837"
     },
     "user_tz": -540
    },
    "id": "XKjDzMrAx02c",
    "outputId": "22831adc-b367-40a0-de75-e4974e858eb4"
   },
   "outputs": [],
   "source": [
    "x.mean(), x.mean(dim=0)"
   ]
  },
  {
   "cell_type": "markdown",
   "metadata": {
    "id": "pNcKPozYx02d"
   },
   "source": [
    "### Broadcasting"
   ]
  },
  {
   "cell_type": "code",
   "execution_count": null,
   "metadata": {
    "executionInfo": {
     "elapsed": 465,
     "status": "ok",
     "timestamp": 1628751879526,
     "user": {
      "displayName": "서동혁",
      "photoUrl": "https://lh3.googleusercontent.com/a-/AOh14Gg71wtFCbtWxlC7qlDKDUXeUrBLgfU2JGLVV5w_=s64",
      "userId": "08630625503201634837"
     },
     "user_tz": -540
    },
    "id": "YLS1jVukx02d"
   },
   "outputs": [],
   "source": [
    "x = torch.arange(1, 11).reshape(1, -1)\n",
    "y = torch.arange(1, 20, step=2).reshape(-1, 1)"
   ]
  },
  {
   "cell_type": "code",
   "execution_count": null,
   "metadata": {
    "colab": {
     "base_uri": "https://localhost:8080/"
    },
    "executionInfo": {
     "elapsed": 10,
     "status": "ok",
     "timestamp": 1628751879911,
     "user": {
      "displayName": "서동혁",
      "photoUrl": "https://lh3.googleusercontent.com/a-/AOh14Gg71wtFCbtWxlC7qlDKDUXeUrBLgfU2JGLVV5w_=s64",
      "userId": "08630625503201634837"
     },
     "user_tz": -540
    },
    "id": "97FLUA7tx02d",
    "outputId": "4fb47718-14a9-466e-ab72-480078715b1b"
   },
   "outputs": [],
   "source": [
    "x + y"
   ]
  },
  {
   "cell_type": "markdown",
   "metadata": {
    "id": "527oICN2x02e"
   },
   "source": [
    "## AUTOGRAD: 자동미분"
   ]
  },
  {
   "cell_type": "markdown",
   "metadata": {
    "id": "TipK2n9dx02e"
   },
   "source": [
    "`pytorch` 신경망의 중심. `backward()`를 가능케 하는 패키지  \n",
    "`Tensor`의 모든 연산에 대해 자동 미분을 제공"
   ]
  },
  {
   "cell_type": "markdown",
   "metadata": {
    "id": "1h8J2XqZx02e"
   },
   "source": [
    "`pytorch.Tensor` class에는 `.required_grad` 속성이 존재  \n",
    "`.required_grad`를 True로 세팅하면 해당 tensor를 기반으로 이루어신 모든 연산을 추적(track)하기 시작함  \n",
    "모든 연산이 완료된 후, `backward()`를 호출하면 모든 gradient가 자동으로 계산(`Tensor.grad` 속성에 gradient가 누적됨)"
   ]
  },
  {
   "cell_type": "markdown",
   "metadata": {
    "id": "eJA-Xb96x02e"
   },
   "source": [
    "Autograd의 다른 중요 class는 `Function`class  \n",
    "`Tensor`와 `Function`class는 연결되어 있으며, 모든 연산을 encode하여 acyclic graph를 생성  \n",
    "각각의 tensor는 `.grad_fn`속성을 가지며 이는 `Tensor`를 생성한 `Function`을 참조함"
   ]
  },
  {
   "cell_type": "code",
   "execution_count": null,
   "metadata": {
    "colab": {
     "base_uri": "https://localhost:8080/"
    },
    "executionInfo": {
     "elapsed": 589,
     "status": "ok",
     "timestamp": 1628753189789,
     "user": {
      "displayName": "서동혁",
      "photoUrl": "https://lh3.googleusercontent.com/a-/AOh14Gg71wtFCbtWxlC7qlDKDUXeUrBLgfU2JGLVV5w_=s64",
      "userId": "08630625503201634837"
     },
     "user_tz": -540
    },
    "id": "umHK-SP-x02e",
    "outputId": "9b79c2c3-f508-4ec4-dfdf-32558274034e"
   },
   "outputs": [],
   "source": [
    "x = torch.ones(5, 2, requires_grad=True)\n",
    "# x = torch.arange(10, dtype=torch.float32).reshape(5, 2)\n",
    "# x.requires_grad = True\n",
    "x"
   ]
  },
  {
   "cell_type": "code",
   "execution_count": null,
   "metadata": {
    "executionInfo": {
     "elapsed": 8,
     "status": "ok",
     "timestamp": 1628753190131,
     "user": {
      "displayName": "서동혁",
      "photoUrl": "https://lh3.googleusercontent.com/a-/AOh14Gg71wtFCbtWxlC7qlDKDUXeUrBLgfU2JGLVV5w_=s64",
      "userId": "08630625503201634837"
     },
     "user_tz": -540
    },
    "id": "A72TgGEEx02f"
   },
   "outputs": [],
   "source": [
    "y = x + 10"
   ]
  },
  {
   "cell_type": "code",
   "execution_count": null,
   "metadata": {
    "colab": {
     "base_uri": "https://localhost:8080/"
    },
    "executionInfo": {
     "elapsed": 13,
     "status": "ok",
     "timestamp": 1628753191666,
     "user": {
      "displayName": "서동혁",
      "photoUrl": "https://lh3.googleusercontent.com/a-/AOh14Gg71wtFCbtWxlC7qlDKDUXeUrBLgfU2JGLVV5w_=s64",
      "userId": "08630625503201634837"
     },
     "user_tz": -540
    },
    "id": "fJSOLt7Mx02f",
    "outputId": "5b7eed78-9b7d-43c4-93b9-8c8d8d702911"
   },
   "outputs": [],
   "source": [
    "y"
   ]
  },
  {
   "cell_type": "markdown",
   "metadata": {
    "id": "bK2vHwmIx02f"
   },
   "source": [
    "y는 연산의 결과로 생성된 tensor이므로 grad_fn을 가짐"
   ]
  },
  {
   "cell_type": "code",
   "execution_count": null,
   "metadata": {
    "colab": {
     "base_uri": "https://localhost:8080/"
    },
    "executionInfo": {
     "elapsed": 8,
     "status": "ok",
     "timestamp": 1628753193802,
     "user": {
      "displayName": "서동혁",
      "photoUrl": "https://lh3.googleusercontent.com/a-/AOh14Gg71wtFCbtWxlC7qlDKDUXeUrBLgfU2JGLVV5w_=s64",
      "userId": "08630625503201634837"
     },
     "user_tz": -540
    },
    "id": "5X8FtJA5x02f",
    "outputId": "2c0d9e0b-e6d8-4e31-b647-b2047523ea10"
   },
   "outputs": [],
   "source": [
    "y.grad_fn"
   ]
  },
  {
   "cell_type": "code",
   "execution_count": null,
   "metadata": {
    "executionInfo": {
     "elapsed": 8,
     "status": "ok",
     "timestamp": 1628753195212,
     "user": {
      "displayName": "서동혁",
      "photoUrl": "https://lh3.googleusercontent.com/a-/AOh14Gg71wtFCbtWxlC7qlDKDUXeUrBLgfU2JGLVV5w_=s64",
      "userId": "08630625503201634837"
     },
     "user_tz": -540
    },
    "id": "v5BR5Y4Ox02f"
   },
   "outputs": [],
   "source": [
    "z = y * y * 10"
   ]
  },
  {
   "cell_type": "code",
   "execution_count": null,
   "metadata": {
    "executionInfo": {
     "elapsed": 8,
     "status": "ok",
     "timestamp": 1628753195513,
     "user": {
      "displayName": "서동혁",
      "photoUrl": "https://lh3.googleusercontent.com/a-/AOh14Gg71wtFCbtWxlC7qlDKDUXeUrBLgfU2JGLVV5w_=s64",
      "userId": "08630625503201634837"
     },
     "user_tz": -540
    },
    "id": "5_zo75sMx02g"
   },
   "outputs": [],
   "source": [
    "out = z.mean()"
   ]
  },
  {
   "cell_type": "code",
   "execution_count": null,
   "metadata": {
    "colab": {
     "base_uri": "https://localhost:8080/"
    },
    "executionInfo": {
     "elapsed": 14,
     "status": "ok",
     "timestamp": 1628753196536,
     "user": {
      "displayName": "서동혁",
      "photoUrl": "https://lh3.googleusercontent.com/a-/AOh14Gg71wtFCbtWxlC7qlDKDUXeUrBLgfU2JGLVV5w_=s64",
      "userId": "08630625503201634837"
     },
     "user_tz": -540
    },
    "id": "m18Qlq_yx02g",
    "outputId": "5cd06dac-5309-4b23-b343-3cccefe3b387"
   },
   "outputs": [],
   "source": [
    "z, out"
   ]
  },
  {
   "cell_type": "markdown",
   "metadata": {
    "id": "9OQiCNYMx02g"
   },
   "source": [
    "### 변화도(Gradient) 계산)"
   ]
  },
  {
   "cell_type": "code",
   "execution_count": null,
   "metadata": {
    "executionInfo": {
     "elapsed": 5,
     "status": "ok",
     "timestamp": 1628753211994,
     "user": {
      "displayName": "서동혁",
      "photoUrl": "https://lh3.googleusercontent.com/a-/AOh14Gg71wtFCbtWxlC7qlDKDUXeUrBLgfU2JGLVV5w_=s64",
      "userId": "08630625503201634837"
     },
     "user_tz": -540
    },
    "id": "-WF4dxKwx02g"
   },
   "outputs": [],
   "source": [
    "out.backward(retain_graph=True)"
   ]
  },
  {
   "cell_type": "code",
   "execution_count": null,
   "metadata": {
    "colab": {
     "base_uri": "https://localhost:8080/"
    },
    "executionInfo": {
     "elapsed": 8,
     "status": "ok",
     "timestamp": 1628753212305,
     "user": {
      "displayName": "서동혁",
      "photoUrl": "https://lh3.googleusercontent.com/a-/AOh14Gg71wtFCbtWxlC7qlDKDUXeUrBLgfU2JGLVV5w_=s64",
      "userId": "08630625503201634837"
     },
     "user_tz": -540
    },
    "id": "1q0ncMddx02g",
    "outputId": "6b316dc7-aabd-4942-9418-fc55130470e7"
   },
   "outputs": [],
   "source": [
    "print(x.grad)"
   ]
  },
  {
   "cell_type": "markdown",
   "metadata": {
    "id": "aUNBsKY0x02h"
   },
   "source": [
    "#### Jacobian matrix 활용"
   ]
  },
  {
   "cell_type": "code",
   "execution_count": null,
   "metadata": {
    "colab": {
     "base_uri": "https://localhost:8080/"
    },
    "executionInfo": {
     "elapsed": 568,
     "status": "ok",
     "timestamp": 1628752871007,
     "user": {
      "displayName": "서동혁",
      "photoUrl": "https://lh3.googleusercontent.com/a-/AOh14Gg71wtFCbtWxlC7qlDKDUXeUrBLgfU2JGLVV5w_=s64",
      "userId": "08630625503201634837"
     },
     "user_tz": -540
    },
    "id": "nenEEaCVx02h",
    "outputId": "b4440077-7b84-4116-fe80-4c0649b2e0f5"
   },
   "outputs": [],
   "source": [
    "x = torch.ones(5, 2, requires_grad=True)\n",
    "y = x + 10\n",
    "z = y * y * 10\n",
    "out = z.mean(axis=1)\n",
    "out"
   ]
  },
  {
   "cell_type": "code",
   "execution_count": null,
   "metadata": {
    "colab": {
     "base_uri": "https://localhost:8080/"
    },
    "executionInfo": {
     "elapsed": 13,
     "status": "ok",
     "timestamp": 1628752871418,
     "user": {
      "displayName": "서동혁",
      "photoUrl": "https://lh3.googleusercontent.com/a-/AOh14Gg71wtFCbtWxlC7qlDKDUXeUrBLgfU2JGLVV5w_=s64",
      "userId": "08630625503201634837"
     },
     "user_tz": -540
    },
    "id": "1LWujRtLMwse",
    "outputId": "d06528e5-c7bc-49af-f6b6-07c1fc2245a7"
   },
   "outputs": [],
   "source": [
    "x = torch.ones(5, 2, requires_grad=True)\n",
    "y = x + 10\n",
    "y = y * y * 10\n",
    "y = y.mean(axis=1)\n",
    "y"
   ]
  },
  {
   "cell_type": "code",
   "execution_count": null,
   "metadata": {
    "executionInfo": {
     "elapsed": 295,
     "status": "ok",
     "timestamp": 1628752873740,
     "user": {
      "displayName": "서동혁",
      "photoUrl": "https://lh3.googleusercontent.com/a-/AOh14Gg71wtFCbtWxlC7qlDKDUXeUrBLgfU2JGLVV5w_=s64",
      "userId": "08630625503201634837"
     },
     "user_tz": -540
    },
    "id": "2HkcDAjax02h"
   },
   "outputs": [],
   "source": [
    "y.backward(torch.tensor([1., 3.,1.,1.,1.]))"
   ]
  },
  {
   "cell_type": "code",
   "execution_count": null,
   "metadata": {
    "colab": {
     "base_uri": "https://localhost:8080/"
    },
    "executionInfo": {
     "elapsed": 287,
     "status": "ok",
     "timestamp": 1628752889800,
     "user": {
      "displayName": "서동혁",
      "photoUrl": "https://lh3.googleusercontent.com/a-/AOh14Gg71wtFCbtWxlC7qlDKDUXeUrBLgfU2JGLVV5w_=s64",
      "userId": "08630625503201634837"
     },
     "user_tz": -540
    },
    "id": "Yo_GWxSEx02h",
    "outputId": "0b0ced80-4a74-4ad5-dcfa-9461412c7e4f"
   },
   "outputs": [],
   "source": [
    "print(x.grad)"
   ]
  },
  {
   "cell_type": "markdown",
   "metadata": {
    "id": "JIERUbPgx02h"
   },
   "source": [
    "## DataLoader"
   ]
  },
  {
   "cell_type": "markdown",
   "metadata": {
    "id": "8GDKLJxKx02i"
   },
   "source": [
    "torch.utils.data.DataLoader(dataset, batch_size=1, shuffle=False,  num_workers=0,...)"
   ]
  },
  {
   "cell_type": "markdown",
   "metadata": {
    "id": "USIrh6pKx02i"
   },
   "source": [
    "데이터를 학습모델에 통째로 넣지 않고 batch 단위로 나누어 학습시킬 때 활용.  \n",
    "모든 데이터를 나누고 나눈 데이터를 차례로 넣어주는 과정을 대신해줌\n",
    "- 용어  \n",
    " - epoch: 모든 training data 혹은 모든 training data를 학습시킨 상태\n",
    " - batch: batch_size만큼의 training data만 학습시키기 위한 소분 데이터\n"
   ]
  },
  {
   "cell_type": "code",
   "execution_count": null,
   "metadata": {
    "colab": {
     "base_uri": "https://localhost:8080/"
    },
    "executionInfo": {
     "elapsed": 324,
     "status": "ok",
     "timestamp": 1628754120077,
     "user": {
      "displayName": "서동혁",
      "photoUrl": "https://lh3.googleusercontent.com/a-/AOh14Gg71wtFCbtWxlC7qlDKDUXeUrBLgfU2JGLVV5w_=s64",
      "userId": "08630625503201634837"
     },
     "user_tz": -540
    },
    "id": "2Jryz2s4x02i",
    "outputId": "7a0c3591-c1d5-41bd-e10f-9b3b592c9622"
   },
   "outputs": [],
   "source": [
    "x = [[73, 80, 75],\n",
    "   [93, 88, 93],\n",
    "   [89, 91, 90],\n",
    "   [96, 98, 100],\n",
    "   [73, 66, 70]]\n",
    "x = torch.FloatTensor(x)\n",
    "x"
   ]
  },
  {
   "cell_type": "code",
   "execution_count": null,
   "metadata": {
    "executionInfo": {
     "elapsed": 295,
     "status": "ok",
     "timestamp": 1628754136129,
     "user": {
      "displayName": "서동혁",
      "photoUrl": "https://lh3.googleusercontent.com/a-/AOh14Gg71wtFCbtWxlC7qlDKDUXeUrBLgfU2JGLVV5w_=s64",
      "userId": "08630625503201634837"
     },
     "user_tz": -540
    },
    "id": "3SKPcNX-x02i"
   },
   "outputs": [],
   "source": [
    "data_loader = torch.utils.data.DataLoader(x,\n",
    "                            batch_size=2, \n",
    "                            shuffle=True, \n",
    "                            num_workers=0)"
   ]
  },
  {
   "cell_type": "code",
   "execution_count": null,
   "metadata": {
    "colab": {
     "base_uri": "https://localhost:8080/"
    },
    "executionInfo": {
     "elapsed": 291,
     "status": "ok",
     "timestamp": 1628754177587,
     "user": {
      "displayName": "서동혁",
      "photoUrl": "https://lh3.googleusercontent.com/a-/AOh14Gg71wtFCbtWxlC7qlDKDUXeUrBLgfU2JGLVV5w_=s64",
      "userId": "08630625503201634837"
     },
     "user_tz": -540
    },
    "id": "lBjYbuyYx02i",
    "outputId": "f0386ce2-5757-48bd-8436-dadb39744d89"
   },
   "outputs": [],
   "source": [
    "epochs = 2\n",
    "for epoch in range(epochs):\n",
    "    for step, batch in enumerate(data_loader):\n",
    "        print(step, batch)"
   ]
  },
  {
   "cell_type": "markdown",
   "metadata": {
    "id": "Reyhobgcx02j"
   },
   "source": [
    "## CUDA Tensor"
   ]
  },
  {
   "cell_type": "markdown",
   "metadata": {
    "id": "8Ew2NRLZx02j"
   },
   "source": [
    "### GPU로 이동"
   ]
  },
  {
   "cell_type": "code",
   "execution_count": null,
   "metadata": {
    "colab": {
     "base_uri": "https://localhost:8080/"
    },
    "executionInfo": {
     "elapsed": 6813,
     "status": "ok",
     "timestamp": 1628755123787,
     "user": {
      "displayName": "서동혁",
      "photoUrl": "https://lh3.googleusercontent.com/a-/AOh14Gg71wtFCbtWxlC7qlDKDUXeUrBLgfU2JGLVV5w_=s64",
      "userId": "08630625503201634837"
     },
     "user_tz": -540
    },
    "id": "OUf9Isugx02j",
    "outputId": "ad4d9afd-75cb-4fe6-9bb4-11547a138ec5"
   },
   "outputs": [],
   "source": [
    "if torch.cuda.is_available():\n",
    "    x = x.to(torch.device('cuda'))\n",
    "    print(type(x))\n",
    "    print(x.device)"
   ]
  },
  {
   "cell_type": "markdown",
   "metadata": {
    "id": "lhTpdfk9x02j"
   },
   "source": [
    "#### 생성과 함께 gpu에 할당"
   ]
  },
  {
   "cell_type": "code",
   "execution_count": null,
   "metadata": {
    "colab": {
     "base_uri": "https://localhost:8080/"
    },
    "executionInfo": {
     "elapsed": 286,
     "status": "ok",
     "timestamp": 1628755171919,
     "user": {
      "displayName": "서동혁",
      "photoUrl": "https://lh3.googleusercontent.com/a-/AOh14Gg71wtFCbtWxlC7qlDKDUXeUrBLgfU2JGLVV5w_=s64",
      "userId": "08630625503201634837"
     },
     "user_tz": -540
    },
    "id": "hK5_hwHNx02j",
    "outputId": "15fafd75-4262-4e5f-ca13-a0ae949655d4"
   },
   "outputs": [],
   "source": [
    "if torch.cuda.is_available():\n",
    "    k = torch.full((2, 3), 1, device=torch.device('cuda'))\n",
    "    print(type(k))\n",
    "    print(k.device)"
   ]
  },
  {
   "cell_type": "markdown",
   "metadata": {
    "id": "rntQdD26x02j"
   },
   "source": [
    "### CPU로 이동"
   ]
  },
  {
   "cell_type": "code",
   "execution_count": null,
   "metadata": {
    "colab": {
     "base_uri": "https://localhost:8080/"
    },
    "executionInfo": {
     "elapsed": 326,
     "status": "ok",
     "timestamp": 1628755186560,
     "user": {
      "displayName": "서동혁",
      "photoUrl": "https://lh3.googleusercontent.com/a-/AOh14Gg71wtFCbtWxlC7qlDKDUXeUrBLgfU2JGLVV5w_=s64",
      "userId": "08630625503201634837"
     },
     "user_tz": -540
    },
    "id": "Hk8l2Z8Hx02k",
    "outputId": "f020a5ef-42e0-44dc-bf3a-c02512d50971"
   },
   "outputs": [],
   "source": [
    "if torch.cuda.is_available():\n",
    "    x = x.to(torch.device('cpu'))\n",
    "    print(type(x))\n",
    "    print(x.device)"
   ]
  },
  {
   "cell_type": "code",
   "execution_count": null,
   "metadata": {
    "id": "gaOq0j7Hx02k"
   },
   "outputs": [],
   "source": []
  }
 ],
 "metadata": {
  "accelerator": "GPU",
  "colab": {
   "collapsed_sections": [
    "17AkaO-rx02L",
    "uvcc7CBKx02O",
    "B90aXEdUx02P",
    "raF8YpmQx02R",
    "JUfLQ1FPx02R",
    "lL2LSkECx02T",
    "q2We-2vcx02W",
    "4a5aKLBXx02Y",
    "hX1Sm7uUx02Z",
    "CEIa8Tfdx02a",
    "qxcN0l0Ex02b",
    "pNcKPozYx02d",
    "aUNBsKY0x02h"
   ],
   "name": "413-Pytorch tutorial.ipynb",
   "provenance": []
  },
  "kernelspec": {
   "display_name": "Python 3",
   "language": "python",
   "name": "python3"
  },
  "language_info": {
   "codemirror_mode": {
    "name": "ipython",
    "version": 3
   },
   "file_extension": ".py",
   "mimetype": "text/x-python",
   "name": "python",
   "nbconvert_exporter": "python",
   "pygments_lexer": "ipython3",
   "version": "3.6.10"
  }
 },
 "nbformat": 4,
 "nbformat_minor": 1
}
